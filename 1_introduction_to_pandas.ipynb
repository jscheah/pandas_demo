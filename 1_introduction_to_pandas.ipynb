{
 "cells": [
  {
   "cell_type": "markdown",
   "id": "0caa1fa3",
   "metadata": {
    "slideshow": {
     "slide_type": "slide"
    }
   },
   "source": [
    "# Introduction to pandas\n",
    "\n",
    "## Data structures\n",
    "\n",
    "There are 2 main data panda structures\n",
    "\n",
    "1. Series\n",
    "2. Dataframe\n",
    "\n",
    "Let's begin by looking at the Series object\n",
    "\n",
    "### Series\n",
    "The Pandas Series Object\n",
    "A Pandas Series is a one-dimensional array of indexed data. It can be created from a list or array as follows:\n",
    "\n",
    "```\n",
    "s = pd.Series(data, index=index)\n",
    "```"
   ]
  },
  {
   "cell_type": "markdown",
   "id": "23fb23f3",
   "metadata": {
    "slideshow": {
     "slide_type": "subslide"
    }
   },
   "source": [
    "## Simple Example"
   ]
  },
  {
   "cell_type": "code",
   "execution_count": 1,
   "id": "fb169fc0",
   "metadata": {
    "slideshow": {
     "slide_type": "-"
    }
   },
   "outputs": [
    {
     "data": {
      "text/plain": [
       "0    0.1\n",
       "1    0.2\n",
       "2    0.3\n",
       "3    0.4\n",
       "dtype: float64"
      ]
     },
     "execution_count": 1,
     "metadata": {},
     "output_type": "execute_result"
    }
   ],
   "source": [
    "import pandas as pd\n",
    "\n",
    "simple_example = pd.Series([0.1, 0.2, 0.3, 0.4])\n",
    "simple_example\n"
   ]
  },
  {
   "cell_type": "markdown",
   "id": "24004fce",
   "metadata": {
    "slideshow": {
     "slide_type": "-"
    }
   },
   "source": [
    "Note that the series is initialized with default indices starting from 0."
   ]
  },
  {
   "cell_type": "markdown",
   "id": "0e8c032a",
   "metadata": {
    "slideshow": {
     "slide_type": "subslide"
    }
   },
   "source": [
    "## Setting an alternative index\n",
    "\n",
    "Pass a list of axis labels as an index"
   ]
  },
  {
   "cell_type": "code",
   "execution_count": 2,
   "id": "bcd8c863",
   "metadata": {
    "slideshow": {
     "slide_type": "-"
    }
   },
   "outputs": [
    {
     "data": {
      "text/plain": [
       "A    0.1\n",
       "B    0.2\n",
       "C    0.3\n",
       "D    0.4\n",
       "dtype: float64"
      ]
     },
     "execution_count": 2,
     "metadata": {},
     "output_type": "execute_result"
    }
   ],
   "source": [
    "# Note that the length of index must equal to the length of the series\n",
    "\n",
    "simple_example_with_index = pd.Series(\n",
    "    [0.1, 0.2, 0.3, 0.4],\n",
    "    index=[\"A\", \"B\", \"C\", \"D\"]\n",
    ")\n",
    "simple_example_with_index"
   ]
  },
  {
   "cell_type": "markdown",
   "id": "8c36db57",
   "metadata": {
    "slideshow": {
     "slide_type": "subslide"
    }
   },
   "source": [
    "## Input Data\n",
    "\n",
    "The data input to the series can be many different things:\n",
    "\n",
    "1. Python dict\n",
    "2. an ndarray\n",
    "3. a scalar value -- automatically repeats the values in accordance to the length of the index\n"
   ]
  },
  {
   "cell_type": "markdown",
   "id": "2be89525",
   "metadata": {
    "slideshow": {
     "slide_type": "subslide"
    }
   },
   "source": [
    "### Series as specialized dictionary\n",
    "In this way, we can think of a Pandas Series a bit like a specialization of a Python dictionary. \n",
    "Dictionary maps arbitrary keys to a set of arbitrary values, \n",
    "Series maps typed keys to a set of typed values. \n",
    "\n",
    "* This typing is important: just as the type-specific compiled code behind a NumPy array makes it more efficient than a Python list for certain operations, the type information of a Pandas Series makes it much more efficient than Python dictionaries for certain operations.\n",
    "\n",
    "The Series-as-dictionary analogy can be made even more clear by constructing a Series object directly from a Python dictionary"
   ]
  },
  {
   "cell_type": "markdown",
   "id": "55fb04b7",
   "metadata": {
    "slideshow": {
     "slide_type": "subslide"
    }
   },
   "source": [
    "### python dictionary example\n"
   ]
  },
  {
   "cell_type": "code",
   "execution_count": 3,
   "id": "56751118",
   "metadata": {
    "slideshow": {
     "slide_type": "-"
    }
   },
   "outputs": [
    {
     "data": {
      "text/plain": [
       "key1    1\n",
       "key2    2\n",
       "key3    3\n",
       "dtype: int64"
      ]
     },
     "execution_count": 3,
     "metadata": {},
     "output_type": "execute_result"
    }
   ],
   "source": [
    "metric1_dict = {\n",
    "    \"key1\": 1,\n",
    "    \"key2\": 2,\n",
    "    \"key3\": 3,\n",
    "}\n",
    "metric1 = pd.Series(metric1_dict)\n",
    "metric1\n"
   ]
  },
  {
   "cell_type": "code",
   "execution_count": 4,
   "id": "fdf0d7c0",
   "metadata": {
    "slideshow": {
     "slide_type": "-"
    }
   },
   "outputs": [
    {
     "data": {
      "text/plain": [
       "1"
      ]
     },
     "execution_count": 4,
     "metadata": {},
     "output_type": "execute_result"
    }
   ],
   "source": [
    "# values can be accessed similar to a dictionary\n",
    "metric1['key1']"
   ]
  },
  {
   "cell_type": "markdown",
   "id": "7ba57bc3",
   "metadata": {
    "slideshow": {
     "slide_type": "subslide"
    }
   },
   "source": [
    "### What happens if we pass a dictionary with an index?\n"
   ]
  },
  {
   "cell_type": "code",
   "execution_count": 5,
   "id": "c1bf9c99",
   "metadata": {
    "slideshow": {
     "slide_type": "-"
    }
   },
   "outputs": [
    {
     "data": {
      "text/plain": [
       "A   NaN\n",
       "B   NaN\n",
       "C   NaN\n",
       "dtype: float64"
      ]
     },
     "execution_count": 5,
     "metadata": {},
     "output_type": "execute_result"
    }
   ],
   "source": [
    "dict_series_with_index = pd.Series(\n",
    "    metric1_dict,\n",
    "    index=[\"A\", \"B\", \"C\"]\n",
    ")\n",
    "dict_series_with_index"
   ]
  },
  {
   "cell_type": "code",
   "execution_count": 6,
   "id": "5881ea9b",
   "metadata": {
    "slideshow": {
     "slide_type": "-"
    }
   },
   "outputs": [
    {
     "data": {
      "text/plain": [
       "key1    1\n",
       "key2    2\n",
       "key3    3\n",
       "dtype: int64"
      ]
     },
     "execution_count": 6,
     "metadata": {},
     "output_type": "execute_result"
    }
   ],
   "source": [
    "# This works?\n",
    "dict_series_with_index = pd.Series(\n",
    "    metric1_dict,\n",
    "    index=[\"key1\", \"key2\", \"key3\"]\n",
    ")\n",
    "dict_series_with_index"
   ]
  },
  {
   "cell_type": "code",
   "execution_count": 7,
   "id": "747357a2",
   "metadata": {
    "slideshow": {
     "slide_type": "subslide"
    }
   },
   "outputs": [
    {
     "data": {
      "text/plain": [
       "key3    3.0\n",
       "key5    NaN\n",
       "key1    1.0\n",
       "dtype: float64"
      ]
     },
     "execution_count": 7,
     "metadata": {},
     "output_type": "execute_result"
    }
   ],
   "source": [
    "# What is happening?\n",
    "dict_series_with_index = pd.Series(\n",
    "    metric1_dict,\n",
    "    index=[\"key3\", \"key5\", \"key1\"]\n",
    ")\n",
    "dict_series_with_index"
   ]
  },
  {
   "cell_type": "markdown",
   "id": "9ad6d4ec",
   "metadata": {
    "slideshow": {
     "slide_type": "slide"
    }
   },
   "source": [
    "## Dataframe\n",
    "The next fundamental structure in Pandas is the DataFrame. It is a 2-dimensional labeled data structure with columns of potentially different types. You can think of it like a spreadsheet or SQL table, or a dict of Series objects. It is generally the most commonly used pandas object. Like Series, DataFrame accepts many different kinds of input:\n",
    "\n",
    "1. Dict of 1D nd-arrays, lists, dicts, or Series\n",
    "2. 2-D numpy.ndarray\n",
    "3. Structured or record ndarray\n",
    "4. A Series\n",
    "5. Another DataFrame"
   ]
  },
  {
   "cell_type": "markdown",
   "id": "a6f443c0",
   "metadata": {
    "slideshow": {
     "slide_type": "subslide"
    }
   },
   "source": [
    "## Example a dict of lists / series\n"
   ]
  },
  {
   "cell_type": "code",
   "execution_count": 8,
   "id": "71803f2a",
   "metadata": {
    "ExecuteTime": {
     "end_time": "2023-06-02T02:08:08.526842400Z",
     "start_time": "2023-06-02T02:08:08.490573600Z"
    },
    "slideshow": {
     "slide_type": "-"
    }
   },
   "outputs": [
    {
     "data": {
      "text/html": [
       "<div>\n",
       "<style scoped>\n",
       "    .dataframe tbody tr th:only-of-type {\n",
       "        vertical-align: middle;\n",
       "    }\n",
       "\n",
       "    .dataframe tbody tr th {\n",
       "        vertical-align: top;\n",
       "    }\n",
       "\n",
       "    .dataframe thead th {\n",
       "        text-align: right;\n",
       "    }\n",
       "</style>\n",
       "<table border=\"1\" class=\"dataframe\">\n",
       "  <thead>\n",
       "    <tr style=\"text-align: right;\">\n",
       "      <th></th>\n",
       "      <th>simple_example</th>\n",
       "      <th>simple_example2</th>\n",
       "    </tr>\n",
       "  </thead>\n",
       "  <tbody>\n",
       "    <tr>\n",
       "      <th>0</th>\n",
       "      <td>0.1</td>\n",
       "      <td>0.2</td>\n",
       "    </tr>\n",
       "    <tr>\n",
       "      <th>1</th>\n",
       "      <td>0.2</td>\n",
       "      <td>0.3</td>\n",
       "    </tr>\n",
       "    <tr>\n",
       "      <th>2</th>\n",
       "      <td>0.3</td>\n",
       "      <td>0.4</td>\n",
       "    </tr>\n",
       "    <tr>\n",
       "      <th>3</th>\n",
       "      <td>0.4</td>\n",
       "      <td>0.5</td>\n",
       "    </tr>\n",
       "  </tbody>\n",
       "</table>\n",
       "</div>"
      ],
      "text/plain": [
       "   simple_example  simple_example2\n",
       "0             0.1              0.2\n",
       "1             0.2              0.3\n",
       "2             0.3              0.4\n",
       "3             0.4              0.5"
      ]
     },
     "execution_count": 8,
     "metadata": {},
     "output_type": "execute_result"
    }
   ],
   "source": [
    "example_df = pd.DataFrame(\n",
    "    {\n",
    "        \"simple_example\": simple_example,\n",
    "        \"simple_example2\": [0.2, 0.3, 0.4, 0.5]\n",
    "    }\n",
    ")\n",
    "example_df\n"
   ]
  },
  {
   "cell_type": "markdown",
   "id": "3771a26a",
   "metadata": {
    "slideshow": {
     "slide_type": "subslide"
    }
   },
   "source": [
    "# Choices for Indexing\n",
    "1. .loc -- primarily label based, will raise KeyError if not found\n",
    "2. .iloc -- primarily integer-zero based, will raise IndexError if out of bounds except slice indexers"
   ]
  },
  {
   "cell_type": "code",
   "execution_count": 9,
   "id": "2ac3118f",
   "metadata": {
    "ExecuteTime": {
     "end_time": "2023-06-02T02:11:29.423352700Z",
     "start_time": "2023-06-02T02:11:29.407632300Z"
    },
    "slideshow": {
     "slide_type": "-"
    }
   },
   "outputs": [
    {
     "data": {
      "text/plain": [
       "0.1"
      ]
     },
     "execution_count": 9,
     "metadata": {},
     "output_type": "execute_result"
    }
   ],
   "source": [
    "# Example of .loc\n",
    "# .loc works by filtering on the row labels, followed by the column labels\n",
    "# A simple example\n",
    "example_df.loc[0, \"simple_example\"]\n"
   ]
  },
  {
   "cell_type": "code",
   "execution_count": 10,
   "id": "d5cf63a9",
   "metadata": {
    "ExecuteTime": {
     "end_time": "2023-06-02T02:13:34.743140800Z",
     "start_time": "2023-06-02T02:13:34.725403700Z"
    },
    "slideshow": {
     "slide_type": "-"
    }
   },
   "outputs": [
    {
     "data": {
      "text/html": [
       "<div>\n",
       "<style scoped>\n",
       "    .dataframe tbody tr th:only-of-type {\n",
       "        vertical-align: middle;\n",
       "    }\n",
       "\n",
       "    .dataframe tbody tr th {\n",
       "        vertical-align: top;\n",
       "    }\n",
       "\n",
       "    .dataframe thead th {\n",
       "        text-align: right;\n",
       "    }\n",
       "</style>\n",
       "<table border=\"1\" class=\"dataframe\">\n",
       "  <thead>\n",
       "    <tr style=\"text-align: right;\">\n",
       "      <th></th>\n",
       "      <th>simple_example</th>\n",
       "      <th>simple_example2</th>\n",
       "    </tr>\n",
       "  </thead>\n",
       "  <tbody>\n",
       "    <tr>\n",
       "      <th>0</th>\n",
       "      <td>0.1</td>\n",
       "      <td>0.2</td>\n",
       "    </tr>\n",
       "    <tr>\n",
       "      <th>3</th>\n",
       "      <td>0.4</td>\n",
       "      <td>0.5</td>\n",
       "    </tr>\n",
       "  </tbody>\n",
       "</table>\n",
       "</div>"
      ],
      "text/plain": [
       "   simple_example  simple_example2\n",
       "0             0.1              0.2\n",
       "3             0.4              0.5"
      ]
     },
     "execution_count": 10,
     "metadata": {},
     "output_type": "execute_result"
    }
   ],
   "source": [
    "# Referring to multiple rows/columns using a list\n",
    "example_df.loc[[0, 3], [\"simple_example\", \"simple_example2\"]]"
   ]
  },
  {
   "cell_type": "code",
   "execution_count": 11,
   "id": "0761bd3e",
   "metadata": {
    "ExecuteTime": {
     "end_time": "2023-06-02T02:26:02.680107600Z",
     "start_time": "2023-06-02T02:26:02.656192Z"
    },
    "slideshow": {
     "slide_type": "subslide"
    }
   },
   "outputs": [
    {
     "data": {
      "text/plain": [
       "0.1"
      ]
     },
     "execution_count": 11,
     "metadata": {},
     "output_type": "execute_result"
    }
   ],
   "source": [
    "# Example of .iloc\n",
    "# .iloc works by filtering on the row / column indices\n",
    "# A simple example\n",
    "example_df.iloc[0, 0]"
   ]
  },
  {
   "cell_type": "code",
   "execution_count": 12,
   "id": "e996d1b2",
   "metadata": {
    "ExecuteTime": {
     "end_time": "2023-06-02T02:26:54.612701300Z",
     "start_time": "2023-06-02T02:26:54.599451800Z"
    },
    "slideshow": {
     "slide_type": "-"
    }
   },
   "outputs": [
    {
     "data": {
      "text/html": [
       "<div>\n",
       "<style scoped>\n",
       "    .dataframe tbody tr th:only-of-type {\n",
       "        vertical-align: middle;\n",
       "    }\n",
       "\n",
       "    .dataframe tbody tr th {\n",
       "        vertical-align: top;\n",
       "    }\n",
       "\n",
       "    .dataframe thead th {\n",
       "        text-align: right;\n",
       "    }\n",
       "</style>\n",
       "<table border=\"1\" class=\"dataframe\">\n",
       "  <thead>\n",
       "    <tr style=\"text-align: right;\">\n",
       "      <th></th>\n",
       "      <th>simple_example</th>\n",
       "      <th>simple_example2</th>\n",
       "    </tr>\n",
       "  </thead>\n",
       "  <tbody>\n",
       "    <tr>\n",
       "      <th>0</th>\n",
       "      <td>0.1</td>\n",
       "      <td>0.2</td>\n",
       "    </tr>\n",
       "    <tr>\n",
       "      <th>3</th>\n",
       "      <td>0.4</td>\n",
       "      <td>0.5</td>\n",
       "    </tr>\n",
       "  </tbody>\n",
       "</table>\n",
       "</div>"
      ],
      "text/plain": [
       "   simple_example  simple_example2\n",
       "0             0.1              0.2\n",
       "3             0.4              0.5"
      ]
     },
     "execution_count": 12,
     "metadata": {},
     "output_type": "execute_result"
    }
   ],
   "source": [
    "# Referring to multiple rows/columns using a list\n",
    "example_df.iloc[[0, 3], [0, 1]]"
   ]
  },
  {
   "cell_type": "markdown",
   "id": "6c0100df",
   "metadata": {
    "slideshow": {
     "slide_type": "subslide"
    }
   },
   "source": [
    "## Additional selections using indexing methods\n",
    "In addition to labels / indices, loc / iloc can accept the following as well\n",
    "1. Index slices\n",
    "2. Boolean arrays\n",
    "3. Callable (That returns valid output for indexing)"
   ]
  },
  {
   "cell_type": "markdown",
   "id": "adfe5007",
   "metadata": {
    "slideshow": {
     "slide_type": "subslide"
    }
   },
   "source": [
    "## Index slices"
   ]
  },
  {
   "cell_type": "code",
   "execution_count": 13,
   "id": "e5b62d0c",
   "metadata": {
    "ExecuteTime": {
     "end_time": "2023-06-02T03:05:03.484116300Z",
     "start_time": "2023-06-02T03:05:03.470449900Z"
    },
    "slideshow": {
     "slide_type": "-"
    }
   },
   "outputs": [
    {
     "data": {
      "text/html": [
       "<div>\n",
       "<style scoped>\n",
       "    .dataframe tbody tr th:only-of-type {\n",
       "        vertical-align: middle;\n",
       "    }\n",
       "\n",
       "    .dataframe tbody tr th {\n",
       "        vertical-align: top;\n",
       "    }\n",
       "\n",
       "    .dataframe thead th {\n",
       "        text-align: right;\n",
       "    }\n",
       "</style>\n",
       "<table border=\"1\" class=\"dataframe\">\n",
       "  <thead>\n",
       "    <tr style=\"text-align: right;\">\n",
       "      <th></th>\n",
       "      <th>simple_example</th>\n",
       "      <th>simple_example2</th>\n",
       "    </tr>\n",
       "  </thead>\n",
       "  <tbody>\n",
       "    <tr>\n",
       "      <th>0</th>\n",
       "      <td>0.1</td>\n",
       "      <td>0.2</td>\n",
       "    </tr>\n",
       "    <tr>\n",
       "      <th>1</th>\n",
       "      <td>0.2</td>\n",
       "      <td>0.3</td>\n",
       "    </tr>\n",
       "    <tr>\n",
       "      <th>2</th>\n",
       "      <td>0.3</td>\n",
       "      <td>0.4</td>\n",
       "    </tr>\n",
       "  </tbody>\n",
       "</table>\n",
       "</div>"
      ],
      "text/plain": [
       "   simple_example  simple_example2\n",
       "0             0.1              0.2\n",
       "1             0.2              0.3\n",
       "2             0.3              0.4"
      ]
     },
     "execution_count": 13,
     "metadata": {},
     "output_type": "execute_result"
    }
   ],
   "source": [
    "# Note that unlike python slices, which excludes the end element\n",
    "# slices in loc/iloc are start / end inclusive\n",
    "example_df.loc[0:2, [\"simple_example\", \"simple_example2\"]]"
   ]
  },
  {
   "cell_type": "markdown",
   "id": "d7c8e489",
   "metadata": {
    "slideshow": {
     "slide_type": "subslide"
    }
   },
   "source": [
    "## Boolean arrays"
   ]
  },
  {
   "cell_type": "code",
   "execution_count": 14,
   "id": "980442cd",
   "metadata": {
    "ExecuteTime": {
     "end_time": "2023-06-02T03:13:47.837289600Z",
     "start_time": "2023-06-02T03:13:47.811457500Z"
    },
    "slideshow": {
     "slide_type": "-"
    }
   },
   "outputs": [
    {
     "data": {
      "text/html": [
       "<div>\n",
       "<style scoped>\n",
       "    .dataframe tbody tr th:only-of-type {\n",
       "        vertical-align: middle;\n",
       "    }\n",
       "\n",
       "    .dataframe tbody tr th {\n",
       "        vertical-align: top;\n",
       "    }\n",
       "\n",
       "    .dataframe thead th {\n",
       "        text-align: right;\n",
       "    }\n",
       "</style>\n",
       "<table border=\"1\" class=\"dataframe\">\n",
       "  <thead>\n",
       "    <tr style=\"text-align: right;\">\n",
       "      <th></th>\n",
       "      <th>simple_example2</th>\n",
       "    </tr>\n",
       "  </thead>\n",
       "  <tbody>\n",
       "    <tr>\n",
       "      <th>0</th>\n",
       "      <td>0.2</td>\n",
       "    </tr>\n",
       "    <tr>\n",
       "      <th>2</th>\n",
       "      <td>0.4</td>\n",
       "    </tr>\n",
       "  </tbody>\n",
       "</table>\n",
       "</div>"
      ],
      "text/plain": [
       "   simple_example2\n",
       "0              0.2\n",
       "2              0.4"
      ]
     },
     "execution_count": 14,
     "metadata": {},
     "output_type": "execute_result"
    }
   ],
   "source": [
    "# length of Boolean array must equal length of index\n",
    "example_df.loc[\n",
    "    [True, False, True, False],  #Show index 0,2\n",
    "    [False, True]  # Show column 2\n",
    "]"
   ]
  },
  {
   "cell_type": "markdown",
   "id": "3faabeb5",
   "metadata": {
    "slideshow": {
     "slide_type": "subslide"
    }
   },
   "source": [
    "## Callable example\n",
    "callables must return one of the acceptable types above"
   ]
  },
  {
   "cell_type": "code",
   "execution_count": 15,
   "id": "a8ade9ac",
   "metadata": {
    "ExecuteTime": {
     "end_time": "2023-06-02T03:33:09.801605200Z",
     "start_time": "2023-06-02T03:33:09.787574800Z"
    },
    "slideshow": {
     "slide_type": "-"
    }
   },
   "outputs": [
    {
     "data": {
      "text/plain": [
       "0     True\n",
       "1     True\n",
       "2    False\n",
       "3    False\n",
       "Name: simple_example, dtype: bool"
      ]
     },
     "execution_count": 15,
     "metadata": {},
     "output_type": "execute_result"
    }
   ],
   "source": [
    "# method below returns a Boolean Array\n",
    "def select_simple_example_less_than_0_3(df):\n",
    "    return df[\"simple_example\"] < 0.3\n",
    "\n",
    "select_simple_example_less_than_0_3(example_df)"
   ]
  },
  {
   "cell_type": "code",
   "execution_count": 16,
   "id": "285c0964",
   "metadata": {
    "ExecuteTime": {
     "end_time": "2023-06-02T03:33:14.274610400Z",
     "start_time": "2023-06-02T03:33:14.263414900Z"
    },
    "slideshow": {
     "slide_type": "-"
    }
   },
   "outputs": [
    {
     "data": {
      "text/html": [
       "<div>\n",
       "<style scoped>\n",
       "    .dataframe tbody tr th:only-of-type {\n",
       "        vertical-align: middle;\n",
       "    }\n",
       "\n",
       "    .dataframe tbody tr th {\n",
       "        vertical-align: top;\n",
       "    }\n",
       "\n",
       "    .dataframe thead th {\n",
       "        text-align: right;\n",
       "    }\n",
       "</style>\n",
       "<table border=\"1\" class=\"dataframe\">\n",
       "  <thead>\n",
       "    <tr style=\"text-align: right;\">\n",
       "      <th></th>\n",
       "      <th>simple_example</th>\n",
       "      <th>simple_example2</th>\n",
       "    </tr>\n",
       "  </thead>\n",
       "  <tbody>\n",
       "    <tr>\n",
       "      <th>0</th>\n",
       "      <td>0.1</td>\n",
       "      <td>0.2</td>\n",
       "    </tr>\n",
       "    <tr>\n",
       "      <th>1</th>\n",
       "      <td>0.2</td>\n",
       "      <td>0.3</td>\n",
       "    </tr>\n",
       "  </tbody>\n",
       "</table>\n",
       "</div>"
      ],
      "text/plain": [
       "   simple_example  simple_example2\n",
       "0             0.1              0.2\n",
       "1             0.2              0.3"
      ]
     },
     "execution_count": 16,
     "metadata": {},
     "output_type": "execute_result"
    }
   ],
   "source": [
    "example_df.loc[select_simple_example_less_than_0_3]"
   ]
  },
  {
   "cell_type": "markdown",
   "id": "ee0da73b",
   "metadata": {
    "slideshow": {
     "slide_type": "slide"
    }
   },
   "source": [
    "### Computing approximate size of the Dataframe"
   ]
  },
  {
   "cell_type": "code",
   "execution_count": 17,
   "id": "c03956d2",
   "metadata": {
    "slideshow": {
     "slide_type": "-"
    }
   },
   "outputs": [],
   "source": [
    "# Displaying memory usage of a dataframe\n",
    "data = {'Name': ['John', 'Jane', 'Alice'],\n",
    "        'Age': [25, 30, 28],\n",
    "        'Salary': [50000, 60000, 55000]}\n",
    "\n",
    "df = pd.DataFrame(data)"
   ]
  },
  {
   "cell_type": "markdown",
   "id": "ec8c2787",
   "metadata": {},
   "source": [
    "#### How is the computed?\n",
    "The memory usage estimation provided by Pandas' `info()` method is based on the data types of the columns in the DataFrame. It calculates the memory required for storing the column data and any additional overhead required by Pandas to manage the DataFrame.\n",
    "\n",
    "Here are some general guidelines for estimating memory usage based on data types:\n",
    "\n",
    "- Numeric data types (e.g., int, float): The memory usage depends on the size of the data type. For example, an int64 column will use 8 bytes per element, and a float64 column will use 8 bytes per element.\n",
    "\n",
    "- Boolean data type (bool): The memory usage for boolean columns is estimated as 1 byte per 8 elements. Each boolean element occupies a single bit, but Pandas rounds it up to the nearest byte for efficiency.\n",
    "\n",
    "- String data type (object): The memory usage for string columns is estimated based on the actual content of the strings. It calculates the total memory required for storing the strings, including the string lengths and any additional overhead for managing the strings.\n",
    "\n",
    "Keep in mind that these estimates are based on the assumption that the data types accurately represent the actual data in the DataFrame. If the data types are not optimized or if there are missing values, the memory usage estimate may not be entirely precise.\n",
    "\n",
    "Additionally, the memory usage estimation may not account for certain optimizations or compression techniques used by Pandas, such as string interning or category data types. These techniques can reduce the memory usage compared to the naive estimates based solely on data types.\n",
    "\n",
    "For a more precise measurement, use the `memory_usage()` method with the `deep=True` argument, as shown in the previous examples. This will provide the actual memory usage by recursively examining the contents of the DataFrame, but it requires creating the DataFrame and accessing its data.\n"
   ]
  },
  {
   "cell_type": "code",
   "execution_count": 18,
   "id": "382b4940",
   "metadata": {},
   "outputs": [
    {
     "name": "stdout",
     "output_type": "stream",
     "text": [
      "Memory usage of the DataFrame: 360 bytes\n"
     ]
    }
   ],
   "source": [
    "# Data frame memory size calculation exercise\n",
    "memory_usage = df.memory_usage(deep=True).sum()\n",
    "print(\"Memory usage of the DataFrame:\", memory_usage, \"bytes\")"
   ]
  }
 ],
 "metadata": {
  "celltoolbar": "Slideshow",
  "kernelspec": {
   "display_name": "Python 3 (ipykernel)",
   "language": "python",
   "name": "python3"
  },
  "language_info": {
   "codemirror_mode": {
    "name": "ipython",
    "version": 3
   },
   "file_extension": ".py",
   "mimetype": "text/x-python",
   "name": "python",
   "nbconvert_exporter": "python",
   "pygments_lexer": "ipython3",
   "version": "3.10.11"
  }
 },
 "nbformat": 4,
 "nbformat_minor": 5
}
