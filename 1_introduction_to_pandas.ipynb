{
 "cells": [
  {
   "cell_type": "markdown",
   "id": "0caa1fa3",
   "metadata": {
    "slideshow": {
     "slide_type": "slide"
    }
   },
   "source": [
    "# Introduction to pandas\n",
    "\n",
    "## Data structures\n",
    "\n",
    "There are 2 main data panda structures\n",
    "\n",
    "1. Series\n",
    "2. Dataframe\n",
    "\n",
    "Let's begin by looking at the Series object\n",
    "\n",
    "### Series\n",
    "The Pandas Series Object\n",
    "A Pandas Series is a one-dimensional array of indexed data. It can be created from a list or array as follows:\n",
    "\n",
    ">s = pd.Series(data, index=index)"
   ]
  },
  {
   "cell_type": "markdown",
   "id": "23fb23f3",
   "metadata": {
    "slideshow": {
     "slide_type": "subslide"
    }
   },
   "source": [
    "#### Simple Example"
   ]
  },
  {
   "cell_type": "code",
   "execution_count": 5,
   "id": "fb169fc0",
   "metadata": {
    "slideshow": {
     "slide_type": "-"
    }
   },
   "outputs": [
    {
     "data": {
      "text/plain": [
       "0    0.1\n",
       "1    0.2\n",
       "2    0.3\n",
       "3    0.4\n",
       "dtype: float64"
      ]
     },
     "execution_count": 5,
     "metadata": {},
     "output_type": "execute_result"
    }
   ],
   "source": [
    "import numpy as np\n",
    "import pandas as pd\n",
    "\n",
    "simple_example = pd.Series([0.1, 0.2, 0.3, 0.4])\n",
    "simple_example\n"
   ]
  },
  {
   "cell_type": "markdown",
   "id": "24004fce",
   "metadata": {
    "slideshow": {
     "slide_type": "subslide"
    }
   },
   "source": [
    "The data input to the series can be many different things:\n",
    "\n",
    "1. Python dict\n",
    "2. an ndarray\n",
    "3. a scalar value -- automatically repeats the values in accordance to the length of the index\n",
    "\n",
    "The passed index is a list of axis labels."
   ]
  },
  {
   "cell_type": "code",
   "execution_count": 6,
   "id": "bcd8c863",
   "metadata": {
    "slideshow": {
     "slide_type": "subslide"
    }
   },
   "outputs": [],
   "source": [
    "# Setting an alternative index\n",
    "# Note that the length of index must equal to the length of the series\n",
    "\n",
    "simple_example_with_index = pd.Series([0.1, 0.2, 0.3, 0.4], index=[\"A\", \"B\", \"C\", \"D\"])"
   ]
  },
  {
   "cell_type": "markdown",
   "id": "2be89525",
   "metadata": {
    "slideshow": {
     "slide_type": "-"
    }
   },
   "source": [
    "#### Series as specialized dictionary\n",
    "In this way, we can think of a Pandas Series a bit like a specialization of a Python dictionary. A dictionary is a structure that maps arbitrary keys to a set of arbitrary values, and a Series is a structure which maps typed keys to a set of typed values. This typing is important: just as the type-specific compiled code behind a NumPy array makes it more efficient than a Python list for certain operations, the type information of a Pandas Series makes it much more efficient than Python dictionaries for certain operations.\n",
    "\n",
    "The Series-as-dictionary analogy can be made even more clear by constructing a Series object directly from a Python dictionary"
   ]
  },
  {
   "cell_type": "code",
   "execution_count": null,
   "id": "56751118",
   "metadata": {},
   "outputs": [],
   "source": [
    "# python dictionary example\n",
    "metric1_dict = {\n",
    "    \"key1\": 1,\n",
    "    \"key2\": 2,\n",
    "    \"key3\": 3,\n",
    "}\n",
    "metric1 = pd.Series(metric1_dict)\n",
    "metric1\n"
   ]
  },
  {
   "cell_type": "code",
   "execution_count": null,
   "id": "fdf0d7c0",
   "metadata": {},
   "outputs": [],
   "source": [
    "# values can be accessed similar to a dictionary\n",
    "metric1['key1']"
   ]
  },
  {
   "cell_type": "code",
   "execution_count": null,
   "id": "c1bf9c99",
   "metadata": {},
   "outputs": [],
   "source": [
    "# What happens if we pass a dictionary with an index?\n",
    "dict_series_with_index = pd.Series(metric1_dict, index=[\"A\", \"B\", \"C\"])\n",
    "dict_series_with_index"
   ]
  },
  {
   "cell_type": "code",
   "execution_count": null,
   "id": "5881ea9b",
   "metadata": {},
   "outputs": [],
   "source": [
    "# This works?\n",
    "dict_series_with_index = pd.Series(metric1_dict, index=[\"key1\", \"key2\", \"key3\"])\n",
    "dict_series_with_index"
   ]
  },
  {
   "cell_type": "code",
   "execution_count": null,
   "id": "747357a2",
   "metadata": {},
   "outputs": [],
   "source": [
    "# What is happening?\n",
    "dict_series_with_index = pd.Series(metric1_dict, index=[\"key3\", \"key5\", \"key1\"])\n",
    "dict_series_with_index"
   ]
  },
  {
   "cell_type": "markdown",
   "id": "9ad6d4ec",
   "metadata": {},
   "source": [
    "### Dataframe\n",
    "The next fundamental structure in Pandas is the DataFrame. It is a 2-dimensional labeled data structure with columns of potentially different types. You can think of it like a spreadsheet or SQL table, or a dict of Series objects. It is generally the most commonly used pandas object. Like Series, DataFrame accepts many different kinds of input:\n",
    "\n",
    "1. Dict of 1D nd-arrays, lists, dicts, or Series\n",
    "2. 2-D numpy.ndarray\n",
    "3. Structured or record ndarray\n",
    "4. A Series\n",
    "5. Another DataFrame"
   ]
  },
  {
   "cell_type": "code",
   "execution_count": null,
   "id": "71803f2a",
   "metadata": {},
   "outputs": [],
   "source": [
    "# Example a dict of lists / series\n",
    "example_df = pd.DataFrame(\n",
    "\n",
    ")\n"
   ]
  },
  {
   "cell_type": "markdown",
   "id": "3771a26a",
   "metadata": {},
   "source": [
    "# Choices for Indexing\n",
    "1. .loc -- primarily label based, will raise KeyError if not found\n",
    "2. .iloc -- primarily integer-zero based, will raise IndexError if out of bounds except slice indexers"
   ]
  },
  {
   "cell_type": "code",
   "execution_count": null,
   "id": "2ac3118f",
   "metadata": {},
   "outputs": [],
   "source": [
    "# Example of .loc vs .iloc\n"
   ]
  },
  {
   "cell_type": "markdown",
   "id": "6c0100df",
   "metadata": {},
   "source": [
    "# Indexing methods\n",
    "1. Boolean indexing\n",
    "2. Indexing with isin\n",
    "3. Where / Masking"
   ]
  },
  {
   "cell_type": "code",
   "execution_count": null,
   "id": "e5b62d0c",
   "metadata": {},
   "outputs": [],
   "source": []
  },
  {
   "cell_type": "markdown",
   "id": "ee0da73b",
   "metadata": {},
   "source": [
    "### Computing approximate size of the Dataframe"
   ]
  },
  {
   "cell_type": "code",
   "execution_count": null,
   "id": "c03956d2",
   "metadata": {},
   "outputs": [],
   "source": [
    "# Displaying memory usage of a dataframe\n",
    "data = {'Name': ['John', 'Jane', 'Alice'],\n",
    "        'Age': [25, 30, 28],\n",
    "        'Salary': [50000, 60000, 55000]}\n",
    "\n",
    "df = pd.DataFrame(data)\n",
    "\n",
    "memory_usage = df.memory_usage(deep=True).sum()\n",
    "print(\"Memory usage of the DataFrame:\", memory_usage, \"bytes\")"
   ]
  },
  {
   "cell_type": "markdown",
   "id": "ec8c2787",
   "metadata": {},
   "source": [
    "#### How is the computed?\n",
    "The memory usage estimation provided by Pandas' `info()` method is based on the data types of the columns in the DataFrame. It calculates the memory required for storing the column data and any additional overhead required by Pandas to manage the DataFrame.\n",
    "\n",
    "Here are some general guidelines for estimating memory usage based on data types:\n",
    "\n",
    "- Numeric data types (e.g., int, float): The memory usage depends on the size of the data type. For example, an int64 column will use 8 bytes per element, and a float64 column will use 8 bytes per element.\n",
    "\n",
    "- Boolean data type (bool): The memory usage for boolean columns is estimated as 1 byte per 8 elements. Each boolean element occupies a single bit, but Pandas rounds it up to the nearest byte for efficiency.\n",
    "\n",
    "- String data type (object): The memory usage for string columns is estimated based on the actual content of the strings. It calculates the total memory required for storing the strings, including the string lengths and any additional overhead for managing the strings.\n",
    "\n",
    "Keep in mind that these estimates are based on the assumption that the data types accurately represent the actual data in the DataFrame. If the data types are not optimized or if there are missing values, the memory usage estimate may not be entirely precise.\n",
    "\n",
    "Additionally, the memory usage estimation may not account for certain optimizations or compression techniques used by Pandas, such as string interning or category data types. These techniques can reduce the memory usage compared to the naive estimates based solely on data types.\n",
    "\n",
    "For a more precise measurement, use the `memory_usage()` method with the `deep=True` argument, as shown in the previous examples. This will provide the actual memory usage by recursively examining the contents of the DataFrame, but it requires creating the DataFrame and accessing its data.\n"
   ]
  },
  {
   "cell_type": "code",
   "execution_count": null,
   "id": "382b4940",
   "metadata": {},
   "outputs": [],
   "source": [
    "# Data frame memory size calculation exercise\n"
   ]
  }
 ],
 "metadata": {
  "celltoolbar": "Slideshow",
  "kernelspec": {
   "display_name": "Python 3 (ipykernel)",
   "language": "python",
   "name": "python3"
  },
  "language_info": {
   "codemirror_mode": {
    "name": "ipython",
    "version": 3
   },
   "file_extension": ".py",
   "mimetype": "text/x-python",
   "name": "python",
   "nbconvert_exporter": "python",
   "pygments_lexer": "ipython3",
   "version": "3.10.11"
  }
 },
 "nbformat": 4,
 "nbformat_minor": 5
}
