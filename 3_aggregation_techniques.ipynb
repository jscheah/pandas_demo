{
 "cells": [
  {
   "cell_type": "markdown",
   "id": "31e1eaea",
   "metadata": {
    "slideshow": {
     "slide_type": "slide"
    }
   },
   "source": [
    "# Part 3\n",
    "1. Descriptive Functions\n",
    "2. Function Application and Iteration\n",
    "3. Aggregation Techniques"
   ]
  },
  {
   "cell_type": "markdown",
   "id": "bafafcf5",
   "metadata": {
    "slideshow": {
     "slide_type": "slide"
    }
   },
   "source": [
    "## 1. Descriptive Function\n",
    "- head / tail\n",
    "- shape\n",
    "- info\n",
    "- accessing raw data"
   ]
  },
  {
   "cell_type": "code",
   "execution_count": 2,
   "id": "0cf7397c",
   "metadata": {
    "ExecuteTime": {
     "end_time": "2023-06-02T15:24:11.860923800Z",
     "start_time": "2023-06-02T15:24:11.458344Z"
    },
    "slideshow": {
     "slide_type": "skip"
    }
   },
   "outputs": [],
   "source": [
    "# Setup default imports here\n",
    "import pandas as pd\n",
    "import numpy as np"
   ]
  },
  {
   "cell_type": "code",
   "execution_count": 7,
   "id": "f3243532",
   "metadata": {
    "ExecuteTime": {
     "end_time": "2023-06-02T15:26:58.182465300Z",
     "start_time": "2023-06-02T15:26:58.163334200Z"
    },
    "slideshow": {
     "slide_type": "subslide"
    }
   },
   "outputs": [],
   "source": [
    "# example df\n",
    "df_len = 50\n",
    "example_df = pd.DataFrame({\n",
    "    'A': np.random.randint(0, 100, df_len),\n",
    "    'B': range(0, df_len),\n",
    "    'C': np.random.randint(0, 100, df_len),\n",
    "    'D': np.random.randint(0, 100, df_len),\n",
    "    'E': np.random.choice([\"E1\", \"E2\", \"E3\", \"E4\", \"E5\"], df_len),\n",
    "    'F': np.random.choice([\"F1\", \"F2\", \"F3\", \"F4\", \"F5\"], df_len),\n",
    "})"
   ]
  },
  {
   "cell_type": "code",
   "execution_count": 8,
   "id": "bcd8c863",
   "metadata": {
    "ExecuteTime": {
     "end_time": "2023-06-02T15:27:00.372312700Z",
     "start_time": "2023-06-02T15:27:00.330878Z"
    },
    "slideshow": {
     "slide_type": "subslide"
    }
   },
   "outputs": [
    {
     "data": {
      "text/html": [
       "<div>\n",
       "<style scoped>\n",
       "    .dataframe tbody tr th:only-of-type {\n",
       "        vertical-align: middle;\n",
       "    }\n",
       "\n",
       "    .dataframe tbody tr th {\n",
       "        vertical-align: top;\n",
       "    }\n",
       "\n",
       "    .dataframe thead th {\n",
       "        text-align: right;\n",
       "    }\n",
       "</style>\n",
       "<table border=\"1\" class=\"dataframe\">\n",
       "  <thead>\n",
       "    <tr style=\"text-align: right;\">\n",
       "      <th></th>\n",
       "      <th>A</th>\n",
       "      <th>B</th>\n",
       "      <th>C</th>\n",
       "      <th>D</th>\n",
       "      <th>E</th>\n",
       "      <th>F</th>\n",
       "    </tr>\n",
       "  </thead>\n",
       "  <tbody>\n",
       "    <tr>\n",
       "      <th>0</th>\n",
       "      <td>53</td>\n",
       "      <td>0</td>\n",
       "      <td>59</td>\n",
       "      <td>57</td>\n",
       "      <td>E5</td>\n",
       "      <td>F5</td>\n",
       "    </tr>\n",
       "    <tr>\n",
       "      <th>1</th>\n",
       "      <td>14</td>\n",
       "      <td>1</td>\n",
       "      <td>24</td>\n",
       "      <td>5</td>\n",
       "      <td>E5</td>\n",
       "      <td>F2</td>\n",
       "    </tr>\n",
       "    <tr>\n",
       "      <th>2</th>\n",
       "      <td>4</td>\n",
       "      <td>2</td>\n",
       "      <td>19</td>\n",
       "      <td>14</td>\n",
       "      <td>E2</td>\n",
       "      <td>F5</td>\n",
       "    </tr>\n",
       "    <tr>\n",
       "      <th>3</th>\n",
       "      <td>68</td>\n",
       "      <td>3</td>\n",
       "      <td>13</td>\n",
       "      <td>82</td>\n",
       "      <td>E1</td>\n",
       "      <td>F3</td>\n",
       "    </tr>\n",
       "    <tr>\n",
       "      <th>4</th>\n",
       "      <td>12</td>\n",
       "      <td>4</td>\n",
       "      <td>66</td>\n",
       "      <td>73</td>\n",
       "      <td>E2</td>\n",
       "      <td>F1</td>\n",
       "    </tr>\n",
       "  </tbody>\n",
       "</table>\n",
       "</div>"
      ],
      "text/plain": [
       "    A  B   C   D   E   F\n",
       "0  53  0  59  57  E5  F5\n",
       "1  14  1  24   5  E5  F2\n",
       "2   4  2  19  14  E2  F5\n",
       "3  68  3  13  82  E1  F3\n",
       "4  12  4  66  73  E2  F1"
      ]
     },
     "execution_count": 8,
     "metadata": {},
     "output_type": "execute_result"
    }
   ],
   "source": [
    "# head / tail\n",
    "example_df.head()"
   ]
  },
  {
   "cell_type": "code",
   "execution_count": 9,
   "id": "4e04f0f8",
   "metadata": {
    "ExecuteTime": {
     "end_time": "2023-06-02T15:27:06.371043200Z",
     "start_time": "2023-06-02T15:27:06.358089Z"
    },
    "slideshow": {
     "slide_type": "subslide"
    }
   },
   "outputs": [
    {
     "data": {
      "text/html": [
       "<div>\n",
       "<style scoped>\n",
       "    .dataframe tbody tr th:only-of-type {\n",
       "        vertical-align: middle;\n",
       "    }\n",
       "\n",
       "    .dataframe tbody tr th {\n",
       "        vertical-align: top;\n",
       "    }\n",
       "\n",
       "    .dataframe thead th {\n",
       "        text-align: right;\n",
       "    }\n",
       "</style>\n",
       "<table border=\"1\" class=\"dataframe\">\n",
       "  <thead>\n",
       "    <tr style=\"text-align: right;\">\n",
       "      <th></th>\n",
       "      <th>A</th>\n",
       "      <th>B</th>\n",
       "      <th>C</th>\n",
       "      <th>D</th>\n",
       "      <th>E</th>\n",
       "      <th>F</th>\n",
       "    </tr>\n",
       "  </thead>\n",
       "  <tbody>\n",
       "    <tr>\n",
       "      <th>45</th>\n",
       "      <td>18</td>\n",
       "      <td>45</td>\n",
       "      <td>55</td>\n",
       "      <td>66</td>\n",
       "      <td>E2</td>\n",
       "      <td>F4</td>\n",
       "    </tr>\n",
       "    <tr>\n",
       "      <th>46</th>\n",
       "      <td>53</td>\n",
       "      <td>46</td>\n",
       "      <td>82</td>\n",
       "      <td>90</td>\n",
       "      <td>E4</td>\n",
       "      <td>F2</td>\n",
       "    </tr>\n",
       "    <tr>\n",
       "      <th>47</th>\n",
       "      <td>69</td>\n",
       "      <td>47</td>\n",
       "      <td>33</td>\n",
       "      <td>96</td>\n",
       "      <td>E5</td>\n",
       "      <td>F4</td>\n",
       "    </tr>\n",
       "    <tr>\n",
       "      <th>48</th>\n",
       "      <td>85</td>\n",
       "      <td>48</td>\n",
       "      <td>14</td>\n",
       "      <td>88</td>\n",
       "      <td>E3</td>\n",
       "      <td>F5</td>\n",
       "    </tr>\n",
       "    <tr>\n",
       "      <th>49</th>\n",
       "      <td>54</td>\n",
       "      <td>49</td>\n",
       "      <td>63</td>\n",
       "      <td>55</td>\n",
       "      <td>E2</td>\n",
       "      <td>F2</td>\n",
       "    </tr>\n",
       "  </tbody>\n",
       "</table>\n",
       "</div>"
      ],
      "text/plain": [
       "     A   B   C   D   E   F\n",
       "45  18  45  55  66  E2  F4\n",
       "46  53  46  82  90  E4  F2\n",
       "47  69  47  33  96  E5  F4\n",
       "48  85  48  14  88  E3  F5\n",
       "49  54  49  63  55  E2  F2"
      ]
     },
     "execution_count": 9,
     "metadata": {},
     "output_type": "execute_result"
    }
   ],
   "source": [
    "example_df.tail()"
   ]
  },
  {
   "cell_type": "code",
   "execution_count": 13,
   "id": "d806fc2c",
   "metadata": {
    "ExecuteTime": {
     "end_time": "2023-06-02T15:29:07.780038900Z",
     "start_time": "2023-06-02T15:29:07.762447Z"
    },
    "slideshow": {
     "slide_type": "subslide"
    }
   },
   "outputs": [
    {
     "data": {
      "text/plain": [
       "(50, 6)"
      ]
     },
     "execution_count": 13,
     "metadata": {},
     "output_type": "execute_result"
    }
   ],
   "source": [
    "# shape (rows x columns)\n",
    "example_df.shape"
   ]
  },
  {
   "cell_type": "code",
   "execution_count": 14,
   "id": "7e653bd8",
   "metadata": {
    "ExecuteTime": {
     "end_time": "2023-06-02T15:29:09.562530600Z",
     "start_time": "2023-06-02T15:29:09.546879Z"
    },
    "slideshow": {
     "slide_type": "-"
    }
   },
   "outputs": [
    {
     "name": "stdout",
     "output_type": "stream",
     "text": [
      "<class 'pandas.core.frame.DataFrame'>\n",
      "RangeIndex: 50 entries, 0 to 49\n",
      "Data columns (total 6 columns):\n",
      " #   Column  Non-Null Count  Dtype \n",
      "---  ------  --------------  ----- \n",
      " 0   A       50 non-null     int32 \n",
      " 1   B       50 non-null     int64 \n",
      " 2   C       50 non-null     int32 \n",
      " 3   D       50 non-null     int32 \n",
      " 4   E       50 non-null     object\n",
      " 5   F       50 non-null     object\n",
      "dtypes: int32(3), int64(1), object(2)\n",
      "memory usage: 1.9+ KB\n"
     ]
    }
   ],
   "source": [
    "# info\n",
    "example_df.info()"
   ]
  },
  {
   "cell_type": "markdown",
   "id": "8c099b7c",
   "metadata": {
    "slideshow": {
     "slide_type": "subslide"
    }
   },
   "source": [
    "## accessing raw data\n",
    "use .to_numpy(), avoid using .values where possible\n",
    "- .array returns ExtensionArray and never copies data\n",
    "- .to_numpy() returns a numpy array\n",
    "\n",
    "Why?\n",
    ".values return type can be ambiguous as it could possibly resolve to either .array or .to_numpy()"
   ]
  },
  {
   "cell_type": "code",
   "execution_count": 21,
   "id": "41a6f563",
   "metadata": {
    "ExecuteTime": {
     "end_time": "2023-06-02T15:38:13.281548700Z",
     "start_time": "2023-06-02T15:38:13.265829900Z"
    },
    "slideshow": {
     "slide_type": "subslide"
    }
   },
   "outputs": [
    {
     "data": {
      "text/plain": [
       "array([[53, 0, 59, 57, 'E5', 'F5'],\n",
       "       [14, 1, 24, 5, 'E5', 'F2'],\n",
       "       [4, 2, 19, 14, 'E2', 'F5'],\n",
       "       [68, 3, 13, 82, 'E1', 'F3'],\n",
       "       [12, 4, 66, 73, 'E2', 'F1'],\n",
       "       [79, 5, 19, 43, 'E2', 'F4'],\n",
       "       [99, 6, 57, 99, 'E4', 'F2'],\n",
       "       [27, 7, 54, 29, 'E5', 'F5'],\n",
       "       [66, 8, 5, 96, 'E4', 'F4'],\n",
       "       [8, 9, 45, 57, 'E3', 'F2'],\n",
       "       [32, 10, 53, 19, 'E5', 'F3'],\n",
       "       [96, 11, 81, 20, 'E4', 'F1'],\n",
       "       [73, 12, 51, 19, 'E4', 'F2'],\n",
       "       [27, 13, 51, 87, 'E5', 'F3'],\n",
       "       [22, 14, 23, 66, 'E1', 'F1'],\n",
       "       [32, 15, 23, 17, 'E2', 'F4'],\n",
       "       [53, 16, 26, 17, 'E2', 'F1'],\n",
       "       [87, 17, 81, 30, 'E5', 'F1'],\n",
       "       [24, 18, 2, 31, 'E2', 'F5'],\n",
       "       [94, 19, 74, 49, 'E5', 'F4'],\n",
       "       [95, 20, 13, 8, 'E3', 'F5'],\n",
       "       [75, 21, 29, 71, 'E2', 'F3'],\n",
       "       [69, 22, 57, 31, 'E3', 'F3'],\n",
       "       [10, 23, 72, 12, 'E5', 'F1'],\n",
       "       [93, 24, 93, 52, 'E1', 'F1'],\n",
       "       [28, 25, 40, 58, 'E1', 'F1'],\n",
       "       [97, 26, 93, 16, 'E2', 'F5'],\n",
       "       [66, 27, 36, 67, 'E3', 'F1'],\n",
       "       [6, 28, 41, 45, 'E2', 'F2'],\n",
       "       [67, 29, 52, 20, 'E2', 'F3'],\n",
       "       [92, 30, 64, 29, 'E1', 'F3'],\n",
       "       [54, 31, 3, 73, 'E2', 'F4'],\n",
       "       [70, 32, 7, 35, 'E3', 'F2'],\n",
       "       [89, 33, 1, 76, 'E1', 'F3'],\n",
       "       [39, 34, 46, 59, 'E3', 'F3'],\n",
       "       [42, 35, 85, 81, 'E1', 'F4'],\n",
       "       [42, 36, 76, 69, 'E4', 'F1'],\n",
       "       [26, 37, 52, 40, 'E3', 'F3'],\n",
       "       [21, 38, 44, 18, 'E5', 'F1'],\n",
       "       [99, 39, 91, 37, 'E2', 'F4'],\n",
       "       [25, 40, 41, 45, 'E2', 'F4'],\n",
       "       [45, 41, 83, 45, 'E2', 'F4'],\n",
       "       [57, 42, 13, 5, 'E5', 'F3'],\n",
       "       [29, 43, 6, 93, 'E1', 'F4'],\n",
       "       [94, 44, 9, 98, 'E5', 'F3'],\n",
       "       [18, 45, 55, 66, 'E2', 'F4'],\n",
       "       [53, 46, 82, 90, 'E4', 'F2'],\n",
       "       [69, 47, 33, 96, 'E5', 'F4'],\n",
       "       [85, 48, 14, 88, 'E3', 'F5'],\n",
       "       [54, 49, 63, 55, 'E2', 'F2']], dtype=object)"
      ]
     },
     "execution_count": 21,
     "metadata": {},
     "output_type": "execute_result"
    }
   ],
   "source": [
    "# to_numpy()\n",
    "example_df.to_numpy()"
   ]
  },
  {
   "cell_type": "markdown",
   "id": "62f3be5d",
   "metadata": {
    "slideshow": {
     "slide_type": "slide"
    }
   },
   "source": [
    "## 2. Function Application and Iteration\n",
    "### table-wise: pipe()\n",
    "### row/column: apply()\n",
    "### element-wise: applymap()\n",
    "### iteration"
   ]
  },
  {
   "cell_type": "markdown",
   "id": "5937f519",
   "metadata": {
    "slideshow": {
     "slide_type": "subslide"
    }
   },
   "source": [
    "## table-wise: pipe()"
   ]
  },
  {
   "cell_type": "code",
   "execution_count": 28,
   "id": "4cece30e",
   "metadata": {
    "ExecuteTime": {
     "end_time": "2023-06-02T16:11:50.599803900Z",
     "start_time": "2023-06-02T16:11:50.582807200Z"
    },
    "slideshow": {
     "slide_type": "-"
    }
   },
   "outputs": [
    {
     "data": {
      "text/html": [
       "<div>\n",
       "<style scoped>\n",
       "    .dataframe tbody tr th:only-of-type {\n",
       "        vertical-align: middle;\n",
       "    }\n",
       "\n",
       "    .dataframe tbody tr th {\n",
       "        vertical-align: top;\n",
       "    }\n",
       "\n",
       "    .dataframe thead th {\n",
       "        text-align: right;\n",
       "    }\n",
       "</style>\n",
       "<table border=\"1\" class=\"dataframe\">\n",
       "  <thead>\n",
       "    <tr style=\"text-align: right;\">\n",
       "      <th></th>\n",
       "      <th>A</th>\n",
       "      <th>B</th>\n",
       "    </tr>\n",
       "  </thead>\n",
       "  <tbody>\n",
       "    <tr>\n",
       "      <th>0</th>\n",
       "      <td>20</td>\n",
       "      <td>20</td>\n",
       "    </tr>\n",
       "    <tr>\n",
       "      <th>1</th>\n",
       "      <td>20</td>\n",
       "      <td>20</td>\n",
       "    </tr>\n",
       "    <tr>\n",
       "      <th>2</th>\n",
       "      <td>20</td>\n",
       "      <td>20</td>\n",
       "    </tr>\n",
       "    <tr>\n",
       "      <th>3</th>\n",
       "      <td>20</td>\n",
       "      <td>20</td>\n",
       "    </tr>\n",
       "    <tr>\n",
       "      <th>4</th>\n",
       "      <td>20</td>\n",
       "      <td>20</td>\n",
       "    </tr>\n",
       "  </tbody>\n",
       "</table>\n",
       "</div>"
      ],
      "text/plain": [
       "    A   B\n",
       "0  20  20\n",
       "1  20  20\n",
       "2  20  20\n",
       "3  20  20\n",
       "4  20  20"
      ]
     },
     "execution_count": 28,
     "metadata": {},
     "output_type": "execute_result"
    }
   ],
   "source": [
    "simple_df = pd.DataFrame({\n",
    "    'A': pd.Series(1, index=range(0,10)),\n",
    "    'B': pd.Series(1, index=range(0,10))\n",
    "})\n",
    "\n",
    "def add_n(input_df, n):\n",
    "    return input_df + n\n",
    "\n",
    "def multiply_by_n(input_df, n):\n",
    "    return input_df * n\n",
    "\n",
    "# should return 20\n",
    "simple_df.pipe(add_n, 9).pipe(multiply_by_n, 2).head()"
   ]
  },
  {
   "cell_type": "markdown",
   "id": "1a006ad7",
   "metadata": {
    "slideshow": {
     "slide_type": "subslide"
    }
   },
   "source": [
    "## row/column: apply()"
   ]
  },
  {
   "cell_type": "code",
   "execution_count": 42,
   "id": "9dea6ffc",
   "metadata": {
    "ExecuteTime": {
     "end_time": "2023-06-02T16:17:48.681296300Z",
     "start_time": "2023-06-02T16:17:48.643921700Z"
    },
    "slideshow": {
     "slide_type": "-"
    }
   },
   "outputs": [
    {
     "data": {
      "text/html": [
       "<div>\n",
       "<style scoped>\n",
       "    .dataframe tbody tr th:only-of-type {\n",
       "        vertical-align: middle;\n",
       "    }\n",
       "\n",
       "    .dataframe tbody tr th {\n",
       "        vertical-align: top;\n",
       "    }\n",
       "\n",
       "    .dataframe thead th {\n",
       "        text-align: right;\n",
       "    }\n",
       "</style>\n",
       "<table border=\"1\" class=\"dataframe\">\n",
       "  <thead>\n",
       "    <tr style=\"text-align: right;\">\n",
       "      <th></th>\n",
       "      <th>A</th>\n",
       "      <th>B</th>\n",
       "    </tr>\n",
       "  </thead>\n",
       "  <tbody>\n",
       "    <tr>\n",
       "      <th>0</th>\n",
       "      <td>20</td>\n",
       "      <td>20</td>\n",
       "    </tr>\n",
       "    <tr>\n",
       "      <th>1</th>\n",
       "      <td>20</td>\n",
       "      <td>20</td>\n",
       "    </tr>\n",
       "    <tr>\n",
       "      <th>2</th>\n",
       "      <td>20</td>\n",
       "      <td>20</td>\n",
       "    </tr>\n",
       "    <tr>\n",
       "      <th>3</th>\n",
       "      <td>20</td>\n",
       "      <td>20</td>\n",
       "    </tr>\n",
       "    <tr>\n",
       "      <th>4</th>\n",
       "      <td>20</td>\n",
       "      <td>20</td>\n",
       "    </tr>\n",
       "  </tbody>\n",
       "</table>\n",
       "</div>"
      ],
      "text/plain": [
       "    A   B\n",
       "0  20  20\n",
       "1  20  20\n",
       "2  20  20\n",
       "3  20  20\n",
       "4  20  20"
      ]
     },
     "execution_count": 42,
     "metadata": {},
     "output_type": "execute_result"
    }
   ],
   "source": [
    "def add_9_multiply_by_2(row):\n",
    "    return (row + 9) * 2\n",
    "\n",
    "simple_df.apply(add_9_multiply_by_2).head()"
   ]
  },
  {
   "cell_type": "markdown",
   "id": "0fa27a00",
   "metadata": {
    "slideshow": {
     "slide_type": "subslide"
    }
   },
   "source": [
    "## element-wise: applymap()"
   ]
  },
  {
   "cell_type": "code",
   "execution_count": 38,
   "id": "2fa7889b",
   "metadata": {
    "ExecuteTime": {
     "end_time": "2023-06-02T16:15:56.847887100Z",
     "start_time": "2023-06-02T16:15:56.838783400Z"
    },
    "slideshow": {
     "slide_type": "-"
    }
   },
   "outputs": [
    {
     "data": {
      "text/html": [
       "<div>\n",
       "<style scoped>\n",
       "    .dataframe tbody tr th:only-of-type {\n",
       "        vertical-align: middle;\n",
       "    }\n",
       "\n",
       "    .dataframe tbody tr th {\n",
       "        vertical-align: top;\n",
       "    }\n",
       "\n",
       "    .dataframe thead th {\n",
       "        text-align: right;\n",
       "    }\n",
       "</style>\n",
       "<table border=\"1\" class=\"dataframe\">\n",
       "  <thead>\n",
       "    <tr style=\"text-align: right;\">\n",
       "      <th></th>\n",
       "      <th>A</th>\n",
       "      <th>B</th>\n",
       "    </tr>\n",
       "  </thead>\n",
       "  <tbody>\n",
       "    <tr>\n",
       "      <th>0</th>\n",
       "      <td>20</td>\n",
       "      <td>20</td>\n",
       "    </tr>\n",
       "    <tr>\n",
       "      <th>1</th>\n",
       "      <td>20</td>\n",
       "      <td>20</td>\n",
       "    </tr>\n",
       "    <tr>\n",
       "      <th>2</th>\n",
       "      <td>20</td>\n",
       "      <td>20</td>\n",
       "    </tr>\n",
       "    <tr>\n",
       "      <th>3</th>\n",
       "      <td>20</td>\n",
       "      <td>20</td>\n",
       "    </tr>\n",
       "    <tr>\n",
       "      <th>4</th>\n",
       "      <td>20</td>\n",
       "      <td>20</td>\n",
       "    </tr>\n",
       "  </tbody>\n",
       "</table>\n",
       "</div>"
      ],
      "text/plain": [
       "    A   B\n",
       "0  20  20\n",
       "1  20  20\n",
       "2  20  20\n",
       "3  20  20\n",
       "4  20  20"
      ]
     },
     "execution_count": 38,
     "metadata": {},
     "output_type": "execute_result"
    }
   ],
   "source": [
    "def add_to_element_9_multiply_by_2(row):\n",
    "    return (row + 9) * 2\n",
    "\n",
    "simple_df.applymap(add_to_element_9_multiply_by_2).head()"
   ]
  },
  {
   "cell_type": "markdown",
   "id": "50f41d82",
   "metadata": {
    "slideshow": {
     "slide_type": "subslide"
    }
   },
   "source": [
    "## iteration"
   ]
  },
  {
   "cell_type": "code",
   "execution_count": null,
   "id": "d9902beb",
   "metadata": {
    "slideshow": {
     "slide_type": "-"
    }
   },
   "outputs": [],
   "source": []
  },
  {
   "cell_type": "markdown",
   "id": "6e3caf7d",
   "metadata": {
    "slideshow": {
     "slide_type": "slide"
    }
   },
   "source": [
    "## 3. GroupBy / Aggregation Data"
   ]
  },
  {
   "cell_type": "code",
   "execution_count": 44,
   "id": "94a50cb6",
   "metadata": {
    "ExecuteTime": {
     "end_time": "2023-05-23T13:22:41.149501800Z",
     "start_time": "2023-05-23T13:22:41.133878400Z"
    },
    "slideshow": {
     "slide_type": "-"
    }
   },
   "outputs": [
    {
     "data": {
      "text/html": [
       "<div>\n",
       "<style scoped>\n",
       "    .dataframe tbody tr th:only-of-type {\n",
       "        vertical-align: middle;\n",
       "    }\n",
       "\n",
       "    .dataframe tbody tr th {\n",
       "        vertical-align: top;\n",
       "    }\n",
       "\n",
       "    .dataframe thead th {\n",
       "        text-align: right;\n",
       "    }\n",
       "</style>\n",
       "<table border=\"1\" class=\"dataframe\">\n",
       "  <thead>\n",
       "    <tr style=\"text-align: right;\">\n",
       "      <th></th>\n",
       "      <th>Name</th>\n",
       "      <th>Age</th>\n",
       "      <th>Salary</th>\n",
       "    </tr>\n",
       "  </thead>\n",
       "  <tbody>\n",
       "    <tr>\n",
       "      <th>0</th>\n",
       "      <td>John</td>\n",
       "      <td>25</td>\n",
       "      <td>50000</td>\n",
       "    </tr>\n",
       "    <tr>\n",
       "      <th>1</th>\n",
       "      <td>Jane</td>\n",
       "      <td>30</td>\n",
       "      <td>60000</td>\n",
       "    </tr>\n",
       "    <tr>\n",
       "      <th>2</th>\n",
       "      <td>John</td>\n",
       "      <td>28</td>\n",
       "      <td>55000</td>\n",
       "    </tr>\n",
       "    <tr>\n",
       "      <th>3</th>\n",
       "      <td>Alice</td>\n",
       "      <td>32</td>\n",
       "      <td>70000</td>\n",
       "    </tr>\n",
       "    <tr>\n",
       "      <th>4</th>\n",
       "      <td>Jane</td>\n",
       "      <td>27</td>\n",
       "      <td>65000</td>\n",
       "    </tr>\n",
       "  </tbody>\n",
       "</table>\n",
       "</div>"
      ],
      "text/plain": [
       "    Name  Age  Salary\n",
       "0   John   25   50000\n",
       "1   Jane   30   60000\n",
       "2   John   28   55000\n",
       "3  Alice   32   70000\n",
       "4   Jane   27   65000"
      ]
     },
     "execution_count": 44,
     "metadata": {},
     "output_type": "execute_result"
    }
   ],
   "source": [
    "# Create a DataFrame\n",
    "data = {\n",
    "    'Name': ['John', 'Jane', 'John', 'Alice', 'Jane'],\n",
    "    'Age': [25, 30, 28, 32, 27],\n",
    "    'Salary': [50000, 60000, 55000, 70000, 65000]\n",
    "}\n",
    "df = pd.DataFrame(data)\n",
    "df"
   ]
  },
  {
   "cell_type": "code",
   "execution_count": 46,
   "id": "c8588357",
   "metadata": {
    "ExecuteTime": {
     "end_time": "2023-05-23T13:22:53.462172700Z",
     "start_time": "2023-05-23T13:22:53.430249200Z"
    },
    "slideshow": {
     "slide_type": "subslide"
    }
   },
   "outputs": [
    {
     "name": "stdout",
     "output_type": "stream",
     "text": [
      "Name\n",
      "Alice    70000.0\n",
      "Jane     62500.0\n",
      "John     52500.0\n",
      "Name: Salary, dtype: float64\n"
     ]
    }
   ],
   "source": [
    "# Basic grouping with aggregation\n",
    "# Group by 'Name' and calculate the average salary\n",
    "grouped_df = df.groupby('Name')['Salary'].mean()\n",
    "\n",
    "print(grouped_df)"
   ]
  },
  {
   "cell_type": "code",
   "execution_count": 47,
   "id": "44151516",
   "metadata": {
    "ExecuteTime": {
     "end_time": "2023-05-23T13:22:47.563676100Z",
     "start_time": "2023-05-23T13:22:47.554272300Z"
    },
    "slideshow": {
     "slide_type": "subslide"
    }
   },
   "outputs": [
    {
     "name": "stdout",
     "output_type": "stream",
     "text": [
      "            Salary  Age\n",
      "Name  Age              \n",
      "Alice 32   70000.0   32\n",
      "Jane  27   65000.0   27\n",
      "      30   60000.0   30\n",
      "John  25   50000.0   25\n",
      "      28   55000.0   28\n"
     ]
    }
   ],
   "source": [
    "# Grouping with Multiple Columns and Aggregations:\n",
    "# Group by 'Name' and 'Age', calculate the average salary and maximum age\n",
    "grouped_df = df.groupby(['Name', 'Age']).agg({'Salary': 'mean', 'Age': 'max'})\n",
    "print(grouped_df)"
   ]
  },
  {
   "cell_type": "code",
   "execution_count": 48,
   "id": "4f3a1ce9",
   "metadata": {
    "ExecuteTime": {
     "end_time": "2023-05-23T13:48:09.406654100Z",
     "start_time": "2023-05-23T13:48:09.391032900Z"
    },
    "slideshow": {
     "slide_type": "subslide"
    }
   },
   "outputs": [
    {
     "name": "stdout",
     "output_type": "stream",
     "text": [
      "       Salary\n",
      "Name         \n",
      "Alice       0\n",
      "Jane     5000\n",
      "John     5000\n"
     ]
    }
   ],
   "source": [
    "# Grouping with Custom Aggregation Functions:\n",
    "# Define a custom aggregation function\n",
    "def salary_range(series):\n",
    "    return series.max() - series.min()\n",
    "\n",
    "\n",
    "# Group by 'Name' and calculate the salary range using the custom function\n",
    "grouped_df = df.groupby('Name').agg({'Salary': salary_range})\n",
    "print(grouped_df)"
   ]
  }
 ],
 "metadata": {
  "celltoolbar": "Slideshow",
  "kernelspec": {
   "display_name": "Python 3 (ipykernel)",
   "language": "python",
   "name": "python3"
  },
  "language_info": {
   "codemirror_mode": {
    "name": "ipython",
    "version": 3
   },
   "file_extension": ".py",
   "mimetype": "text/x-python",
   "name": "python",
   "nbconvert_exporter": "python",
   "pygments_lexer": "ipython3",
   "version": "3.10.11"
  }
 },
 "nbformat": 4,
 "nbformat_minor": 5
}
