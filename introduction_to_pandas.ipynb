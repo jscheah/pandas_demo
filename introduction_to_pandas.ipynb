{
 "cells": [
  {
   "cell_type": "markdown",
   "id": "31e1eaea",
   "metadata": {},
   "source": [
    "# Introduction to pandas\n",
    "\n",
    "## Data structures\n",
    "\n",
    "There are 2 main data panda structures\n",
    "\n",
    "1. Series\n",
    "2. Dataframe\n",
    "\n",
    "Let's being by looking at the Series object\n",
    "\n",
    "### Series\n",
    "The Pandas Series Object\n",
    "A Pandas Series is a one-dimensional array of indexed data. It can be created from a list or array as follows:\n",
    "\n",
    ">>> s = pd.Series(data, index=index)"
   ]
  },
  {
   "cell_type": "code",
   "execution_count": 2,
   "id": "0cf7397c",
   "metadata": {},
   "outputs": [],
   "source": [
    "import numpy as np\n",
    "import pandas as pd"
   ]
  },
  {
   "cell_type": "code",
   "execution_count": 3,
   "id": "3b25c66f",
   "metadata": {},
   "outputs": [
    {
     "data": {
      "text/plain": [
       "0    0.1\n",
       "1    0.2\n",
       "2    0.3\n",
       "3    0.4\n",
       "dtype: float64"
      ]
     },
     "execution_count": 3,
     "metadata": {},
     "output_type": "execute_result"
    }
   ],
   "source": [
    "series = pd.Series([0.1, 0.2, 0.3, 0.4])\n",
    "series"
   ]
  },
  {
   "cell_type": "code",
   "execution_count": 4,
   "id": "e2f40ac4",
   "metadata": {},
   "outputs": [
    {
     "data": {
      "text/plain": [
       "0.1"
      ]
     },
     "execution_count": 4,
     "metadata": {},
     "output_type": "execute_result"
    }
   ],
   "source": [
    "# As we see in the output, the Series wraps both a sequence of values and a sequence of indices, \n",
    "# which we can access with the values and index attributes.\n",
    "\n",
    "series[0]"
   ]
  },
  {
   "cell_type": "markdown",
   "id": "c01650fe",
   "metadata": {},
   "source": [
    "The data input to the series can be many different things:\n",
    "\n",
    "1. Python dict\n",
    "2. an ndarray\n",
    "3. a scalar value -- automatically repeats the values in accordance to the length of the index\n",
    "\n",
    "The passed index is a list of axis labels."
   ]
  },
  {
   "cell_type": "code",
   "execution_count": 9,
   "id": "bcd8c863",
   "metadata": {},
   "outputs": [
    {
     "data": {
      "text/plain": [
       "A    0.1\n",
       "B    0.2\n",
       "C    0.3\n",
       "D    0.4\n",
       "dtype: float64"
      ]
     },
     "execution_count": 9,
     "metadata": {},
     "output_type": "execute_result"
    }
   ],
   "source": [
    "# Setting an alternative index\n",
    "# Note that the length of index must equal to the length of the series\n",
    "pd.Series([0.1, 0.2, 0.3, 0.4], index=[\"A\", \"B\", \"C\", \"D\"])"
   ]
  },
  {
   "cell_type": "markdown",
   "id": "2be89525",
   "metadata": {},
   "source": [
    "#### Series as specialized dictionary\n",
    "In this way, you can think of a Pandas Series a bit like a specialization of a Python dictionary. A dictionary is a structure that maps arbitrary keys to a set of arbitrary values, and a Series is a structure which maps typed keys to a set of typed values. This typing is important: just as the type-specific compiled code behind a NumPy array makes it more efficient than a Python list for certain operations, the type information of a Pandas Series makes it much more efficient than Python dictionaries for certain operations.\n",
    "\n",
    "The Series-as-dictionary analogy can be made even more clear by constructing a Series object directly from a Python dictionary"
   ]
  },
  {
   "cell_type": "code",
   "execution_count": 5,
   "id": "56751118",
   "metadata": {},
   "outputs": [
    {
     "data": {
      "text/plain": [
       "key1    1\n",
       "key2    2\n",
       "key3    3\n",
       "dtype: int64"
      ]
     },
     "execution_count": 5,
     "metadata": {},
     "output_type": "execute_result"
    }
   ],
   "source": [
    "# python dictionary example\n",
    "metric1_dict = {\n",
    "    \"key1\": 1,\n",
    "    \"key2\": 2,\n",
    "    \"key3\": 3,\n",
    "}\n",
    "metric1 = pd.Series(metric1_dict)\n",
    "metric1\n"
   ]
  },
  {
   "cell_type": "code",
   "execution_count": 6,
   "id": "fdf0d7c0",
   "metadata": {},
   "outputs": [
    {
     "data": {
      "text/plain": [
       "1"
      ]
     },
     "execution_count": 6,
     "metadata": {},
     "output_type": "execute_result"
    }
   ],
   "source": [
    "# values can be accessed similar to a dictionary\n",
    "metric1['key1']"
   ]
  },
  {
   "cell_type": "code",
   "execution_count": 14,
   "id": "c1bf9c99",
   "metadata": {},
   "outputs": [
    {
     "data": {
      "text/plain": [
       "A   NaN\n",
       "B   NaN\n",
       "C   NaN\n",
       "dtype: float64"
      ]
     },
     "execution_count": 14,
     "metadata": {},
     "output_type": "execute_result"
    }
   ],
   "source": [
    "# What happens if we pass a dictionary with an index?\n",
    "dict_series_with_index = pd.Series(metric1_dict, index=[\"A\", \"B\", \"C\"])\n",
    "dict_series_with_index"
   ]
  },
  {
   "cell_type": "code",
   "execution_count": 17,
   "id": "5881ea9b",
   "metadata": {},
   "outputs": [
    {
     "data": {
      "text/plain": [
       "key1    1\n",
       "key2    2\n",
       "key3    3\n",
       "dtype: int64"
      ]
     },
     "execution_count": 17,
     "metadata": {},
     "output_type": "execute_result"
    }
   ],
   "source": [
    "# This works?\n",
    "dict_series_with_index = pd.Series(metric1_dict, index=[\"key1\", \"key2\", \"key3\"])\n",
    "dict_series_with_index"
   ]
  },
  {
   "cell_type": "code",
   "execution_count": 19,
   "id": "747357a2",
   "metadata": {},
   "outputs": [
    {
     "data": {
      "text/plain": [
       "key3    3.0\n",
       "key5    NaN\n",
       "key1    1.0\n",
       "dtype: float64"
      ]
     },
     "execution_count": 19,
     "metadata": {},
     "output_type": "execute_result"
    }
   ],
   "source": [
    "# What is happening?\n",
    "dict_series_with_index = pd.Series(metric1_dict, index=[\"key3\", \"key5\", \"key1\"])\n",
    "dict_series_with_index"
   ]
  },
  {
   "cell_type": "markdown",
   "id": "9ad6d4ec",
   "metadata": {},
   "source": [
    "### Dataframe\n",
    "The next fundamental structure in Pandas is the DataFrame. It is a 2-dimensional labeled data structure with columns of potentially different types. You can think of it like a spreadsheet or SQL table, or a dict of Series objects. It is generally the most commonly used pandas object. Like Series, DataFrame accepts many different kinds of input:\n",
    "\n",
    "1. Dict of 1D ndarrays, lists, dicts, or Series\n",
    "2. 2-D numpy.ndarray\n",
    "3. Structured or record ndarray\n",
    "4. A Series\n",
    "5. Another DataFrame"
   ]
  },
  {
   "cell_type": "code",
   "execution_count": null,
   "id": "71803f2a",
   "metadata": {},
   "outputs": [],
   "source": [
    "# Example a dict of lists / series\n",
    "example_df = pd.DataFrame(\n",
    ")\n"
   ]
  }
 ],
 "metadata": {
  "kernelspec": {
   "display_name": "Python 3 (ipykernel)",
   "language": "python",
   "name": "python3"
  },
  "language_info": {
   "codemirror_mode": {
    "name": "ipython",
    "version": 3
   },
   "file_extension": ".py",
   "mimetype": "text/x-python",
   "name": "python",
   "nbconvert_exporter": "python",
   "pygments_lexer": "ipython3",
   "version": "3.10.11"
  }
 },
 "nbformat": 4,
 "nbformat_minor": 5
}
