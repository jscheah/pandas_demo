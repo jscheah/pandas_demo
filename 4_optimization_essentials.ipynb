{
 "cells": [
  {
   "cell_type": "markdown",
   "id": "31e1eaea",
   "metadata": {
    "slideshow": {
     "slide_type": "slide"
    }
   },
   "source": [
    "# Part 4 Optimization Essentials\n",
    "\n",
    "- Install essential libraries\n",
    "- Avoid iteration where possible\n",
    "- Leverage vectorized operations where possible\n",
    "- Optimize data structures(Downsizing)\n",
    "- Using eval() to remove intermediate\n",
    "\n",
    "    "
   ]
  },
  {
   "cell_type": "markdown",
   "id": "e50c6299",
   "metadata": {},
   "source": [
    "## Install essential libraries\n",
    "- numexpr (for better computation performance)"
   ]
  },
  {
   "cell_type": "code",
   "execution_count": null,
   "id": "eab6b848",
   "metadata": {},
   "outputs": [],
   "source": [
    "# Performance examples"
   ]
  }
 ],
 "metadata": {
  "celltoolbar": "Slideshow",
  "kernelspec": {
   "display_name": "Python 3 (ipykernel)",
   "language": "python",
   "name": "python3"
  },
  "language_info": {
   "codemirror_mode": {
    "name": "ipython",
    "version": 3
   },
   "file_extension": ".py",
   "mimetype": "text/x-python",
   "name": "python",
   "nbconvert_exporter": "python",
   "pygments_lexer": "ipython3",
   "version": "3.11.3"
  }
 },
 "nbformat": 4,
 "nbformat_minor": 5
}
