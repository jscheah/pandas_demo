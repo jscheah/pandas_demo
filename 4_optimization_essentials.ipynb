{
 "cells": [
  {
   "cell_type": "markdown",
   "id": "31e1eaea",
   "metadata": {
    "slideshow": {
     "slide_type": "slide"
    }
   },
   "source": [
    "# Part 4 Optimization Essentials\n",
    "\n",
    "- Install essential libraries\n",
    "- Leverage vectorized operations where possible\n",
    "- Optimize data structures(Downsizing)\n",
    "- Using eval()\n",
    "- Parallelized computations"
   ]
  },
  {
   "cell_type": "markdown",
   "id": "e50c6299",
   "metadata": {
    "slideshow": {
     "slide_type": "slide"
    }
   },
   "source": [
    "## Install essential libraries\n",
    "- numexpr (for better computation performance)\n",
    "- pyarrow (for quicker reading of csv data)\n",
    "- dask (for parallel processing)"
   ]
  },
  {
   "cell_type": "markdown",
   "id": "155fee12",
   "metadata": {
    "slideshow": {
     "slide_type": "slide"
    }
   },
   "source": [
    "## Leverage vectorized operations where possible\n",
    "- always try to vectorize computations where possible (https://realpython.com/numpy-array-programming/)\n",
    "- for a list of available vector methods, please refer to\n"
   ]
  },
  {
   "cell_type": "code",
   "execution_count": 3,
   "id": "47390469",
   "metadata": {
    "ExecuteTime": {
     "end_time": "2023-06-03T15:29:32.420515700Z",
     "start_time": "2023-06-03T15:29:31.269765600Z"
    },
    "slideshow": {
     "slide_type": "skip"
    }
   },
   "outputs": [],
   "source": [
    "import numpy as np\n",
    "import pandas as pd"
   ]
  },
  {
   "cell_type": "code",
   "execution_count": 6,
   "id": "f1950799",
   "metadata": {
    "ExecuteTime": {
     "end_time": "2023-06-03T15:31:01.418044300Z",
     "start_time": "2023-06-03T15:31:01.351156600Z"
    },
    "slideshow": {
     "slide_type": "subslide"
    }
   },
   "outputs": [],
   "source": [
    "# 2 different ways of counting a given integer's occurrence\n",
    "large_df = pd.DataFrame({\n",
    "    'A': np.random.randint(0, 1000, 10 ** 7),\n",
    "})\n",
    "\n",
    "\n",
    "def count_loop(df: pd.DataFrame, target: int) -> int:\n",
    "    return sum(x == target for x in df[\"A\"])\n",
    "\n",
    "\n",
    "def count_vectorized(df: pd.DataFrame, target: int) -> int:\n",
    "    return (df[\"A\"] == target).sum()"
   ]
  },
  {
   "cell_type": "code",
   "execution_count": 9,
   "id": "16ef5dba",
   "metadata": {
    "ExecuteTime": {
     "end_time": "2023-06-03T15:31:44.369118900Z",
     "start_time": "2023-06-03T15:31:35.653398100Z"
    },
    "slideshow": {
     "slide_type": "subslide"
    }
   },
   "outputs": [
    {
     "name": "stdout",
     "output_type": "stream",
     "text": [
      "1.08 s ± 5.12 ms per loop (mean ± std. dev. of 7 runs, 1 loop each)\n"
     ]
    }
   ],
   "source": [
    "%%timeit\n",
    "count_loop(large_df, 500)"
   ]
  },
  {
   "cell_type": "code",
   "execution_count": 10,
   "id": "c7fafa22",
   "metadata": {
    "ExecuteTime": {
     "end_time": "2023-06-03T15:31:56.812154100Z",
     "start_time": "2023-06-03T15:31:47.110584300Z"
    },
    "slideshow": {
     "slide_type": "-"
    }
   },
   "outputs": [
    {
     "name": "stdout",
     "output_type": "stream",
     "text": [
      "11.9 ms ± 74 µs per loop (mean ± std. dev. of 7 runs, 100 loops each)\n"
     ]
    }
   ],
   "source": [
    "%%timeit\n",
    "count_vectorized(large_df, 500)"
   ]
  },
  {
   "cell_type": "markdown",
   "id": "ed76b8f6",
   "metadata": {
    "slideshow": {
     "slide_type": "-"
    }
   },
   "source": [
    "Leverage vectorized operations can lead to a 10x performance improvement!"
   ]
  },
  {
   "cell_type": "markdown",
   "source": [
    "## Optimize data structures(Right-sizing)\n",
    "By default, Pandas always assigns the highest memory datatype to columns.\n",
    "For instance, if Pandas interpreted a column as integer-valued, there are possibly four sub-categories (signed) to choose from:\n",
    "\n",
    "todo: change this to table\n",
    "int8: 8-bit-integer that covers integers from [-2⁷, 2⁷].\n",
    "int16: 16-bit-integer that covers integers from [-2¹⁵, 2¹⁵].\n",
    "int32: 32-bit-integer that covers integers from [-2³¹, 2³¹].\n",
    "int64: 64-bit-integer that covers integers from [-2⁶³, 2⁶³].\n",
    "\n",
    "Similar connotations exist for float-valued numbers as well: float16, float32 and float64.\n",
    "\n",
    "- For str values, consider changing to categorical data but note that str functions will no longer be applicable."
   ],
   "metadata": {
    "collapsed": false
   }
  },
  {
   "cell_type": "code",
   "execution_count": 11,
   "outputs": [
    {
     "data": {
      "text/plain": "Index         128\nA        40000000\ndtype: int64"
     },
     "execution_count": 11,
     "metadata": {},
     "output_type": "execute_result"
    }
   ],
   "source": [
    "large_df_default = pd.DataFrame({\n",
    "    'A': np.random.randint(0, 1000, 10 ** 7),\n",
    "})\n",
    "large_df_default.memory_usage(deep=True)"
   ],
   "metadata": {
    "collapsed": false,
    "ExecuteTime": {
     "end_time": "2023-06-04T02:51:40.219501200Z",
     "start_time": "2023-06-04T02:51:40.130616200Z"
    }
   }
  },
  {
   "cell_type": "code",
   "execution_count": 13,
   "outputs": [
    {
     "data": {
      "text/plain": "Index         128\nA        10000000\ndtype: int64"
     },
     "execution_count": 13,
     "metadata": {},
     "output_type": "execute_result"
    }
   ],
   "source": [
    "# since we only have int between 0, 1000 this can be reduced to int 8\n",
    "large_df_default.A = large_df_default.A.astype(np.int8)\n",
    "large_df_default.memory_usage(deep=True)"
   ],
   "metadata": {
    "collapsed": false,
    "ExecuteTime": {
     "end_time": "2023-06-04T02:53:26.430806300Z",
     "start_time": "2023-06-04T02:53:26.402705100Z"
    }
   }
  },
  {
   "cell_type": "markdown",
   "source": [
    "## Using eval()"
   ],
   "metadata": {
    "collapsed": false
   }
  },
  {
   "cell_type": "code",
   "execution_count": null,
   "outputs": [],
   "source": [
    "## Parallelized computations"
   ],
   "metadata": {
    "collapsed": false
   }
  }
 ],
 "metadata": {
  "celltoolbar": "Slideshow",
  "kernelspec": {
   "display_name": "Python 3 (ipykernel)",
   "language": "python",
   "name": "python3"
  },
  "language_info": {
   "codemirror_mode": {
    "name": "ipython",
    "version": 3
   },
   "file_extension": ".py",
   "mimetype": "text/x-python",
   "name": "python",
   "nbconvert_exporter": "python",
   "pygments_lexer": "ipython3",
   "version": "3.10.11"
  }
 },
 "nbformat": 4,
 "nbformat_minor": 5
}
