{
 "cells": [
  {
   "cell_type": "markdown",
   "id": "31e1eaea",
   "metadata": {
    "slideshow": {
     "slide_type": "slide"
    }
   },
   "source": [
    "# Manipulation Techniques\n",
    "\n",
    "Overview of manipulation techniques\n",
    "\n",
    "1. Combining DataFrames\n",
    "2. Filtering DataFrames\n",
    "3. Reshaping DataFrames"
   ]
  },
  {
   "cell_type": "code",
   "execution_count": 1,
   "id": "0cf7397c",
   "metadata": {
    "ExecuteTime": {
     "end_time": "2023-06-02T06:55:09.977841300Z",
     "start_time": "2023-06-02T06:55:08.929314800Z"
    },
    "slideshow": {
     "slide_type": "skip"
    }
   },
   "outputs": [],
   "source": [
    "# Setup default imports here\n",
    "import numpy as np\n",
    "import pandas as pd"
   ]
  },
  {
   "cell_type": "markdown",
   "id": "0038d119",
   "metadata": {
    "slideshow": {
     "slide_type": "slide"
    }
   },
   "source": [
    "# 1. Combining Data\n",
    "\n",
    "There are 3 main ways for combining pandas data frames\n",
    "\n",
    "1. Concatenate\n",
    "2. Merge\n",
    "3. Join"
   ]
  },
  {
   "cell_type": "markdown",
   "id": "b2c04796",
   "metadata": {
    "slideshow": {
     "slide_type": "subslide"
    }
   },
   "source": [
    "## Concatenate\n",
    "\n",
    "- To append different rows/columns together use pd.concat\n",
    "- Final dataframe consists of the union of columns\n",
    "\n",
    "### Concatenate rows\n",
    "pd.concat(list_dfs)\n",
    "<img height=\"400\" src=\"C:\\Github\\pandas_demo\\images\\concatenate_rows.jpg\" width=\"400\"/>"
   ]
  },
  {
   "cell_type": "code",
   "execution_count": 2,
   "id": "36cbc44e",
   "metadata": {
    "ExecuteTime": {
     "end_time": "2023-06-02T06:55:09.993470900Z",
     "start_time": "2023-06-02T06:55:09.977841300Z"
    },
    "slideshow": {
     "slide_type": "subslide"
    }
   },
   "outputs": [],
   "source": [
    "# Example on concatenation\n",
    "ABC_df = pd.DataFrame(\n",
    "    {\n",
    "        \"A\": [1, 2, 3, 4],\n",
    "        \"B\": [10, 20, 30, 40],\n",
    "        \"C\": [100, 200, 300, 400],\n",
    "    }\n",
    ")\n",
    "\n",
    "BCD_df = pd.DataFrame(\n",
    "    {\n",
    "        \"B\": [10, 20, 30, 40],\n",
    "        \"C\": [100, 200, 300, 400],\n",
    "        \"D\": [1000, 2000, 3000, 4000],\n",
    "    }\n",
    ")"
   ]
  },
  {
   "cell_type": "code",
   "execution_count": 3,
   "id": "0d5ae416",
   "metadata": {
    "ExecuteTime": {
     "end_time": "2023-06-02T06:55:10.015491600Z",
     "start_time": "2023-06-02T06:55:09.993470900Z"
    },
    "slideshow": {
     "slide_type": "subslide"
    }
   },
   "outputs": [
    {
     "data": {
      "text/html": [
       "<div>\n",
       "<style scoped>\n",
       "    .dataframe tbody tr th:only-of-type {\n",
       "        vertical-align: middle;\n",
       "    }\n",
       "\n",
       "    .dataframe tbody tr th {\n",
       "        vertical-align: top;\n",
       "    }\n",
       "\n",
       "    .dataframe thead th {\n",
       "        text-align: right;\n",
       "    }\n",
       "</style>\n",
       "<table border=\"1\" class=\"dataframe\">\n",
       "  <thead>\n",
       "    <tr style=\"text-align: right;\">\n",
       "      <th></th>\n",
       "      <th>A</th>\n",
       "      <th>B</th>\n",
       "      <th>C</th>\n",
       "      <th>D</th>\n",
       "    </tr>\n",
       "  </thead>\n",
       "  <tbody>\n",
       "    <tr>\n",
       "      <th>0</th>\n",
       "      <td>1.0</td>\n",
       "      <td>10</td>\n",
       "      <td>100</td>\n",
       "      <td>NaN</td>\n",
       "    </tr>\n",
       "    <tr>\n",
       "      <th>1</th>\n",
       "      <td>2.0</td>\n",
       "      <td>20</td>\n",
       "      <td>200</td>\n",
       "      <td>NaN</td>\n",
       "    </tr>\n",
       "    <tr>\n",
       "      <th>2</th>\n",
       "      <td>3.0</td>\n",
       "      <td>30</td>\n",
       "      <td>300</td>\n",
       "      <td>NaN</td>\n",
       "    </tr>\n",
       "    <tr>\n",
       "      <th>3</th>\n",
       "      <td>4.0</td>\n",
       "      <td>40</td>\n",
       "      <td>400</td>\n",
       "      <td>NaN</td>\n",
       "    </tr>\n",
       "    <tr>\n",
       "      <th>0</th>\n",
       "      <td>NaN</td>\n",
       "      <td>10</td>\n",
       "      <td>100</td>\n",
       "      <td>1000.0</td>\n",
       "    </tr>\n",
       "    <tr>\n",
       "      <th>1</th>\n",
       "      <td>NaN</td>\n",
       "      <td>20</td>\n",
       "      <td>200</td>\n",
       "      <td>2000.0</td>\n",
       "    </tr>\n",
       "    <tr>\n",
       "      <th>2</th>\n",
       "      <td>NaN</td>\n",
       "      <td>30</td>\n",
       "      <td>300</td>\n",
       "      <td>3000.0</td>\n",
       "    </tr>\n",
       "    <tr>\n",
       "      <th>3</th>\n",
       "      <td>NaN</td>\n",
       "      <td>40</td>\n",
       "      <td>400</td>\n",
       "      <td>4000.0</td>\n",
       "    </tr>\n",
       "  </tbody>\n",
       "</table>\n",
       "</div>"
      ],
      "text/plain": [
       "     A   B    C       D\n",
       "0  1.0  10  100     NaN\n",
       "1  2.0  20  200     NaN\n",
       "2  3.0  30  300     NaN\n",
       "3  4.0  40  400     NaN\n",
       "0  NaN  10  100  1000.0\n",
       "1  NaN  20  200  2000.0\n",
       "2  NaN  30  300  3000.0\n",
       "3  NaN  40  400  4000.0"
      ]
     },
     "execution_count": 3,
     "metadata": {},
     "output_type": "execute_result"
    }
   ],
   "source": [
    "# Row concatenation\n",
    "# Note that original indexes will be retained\n",
    "pd.concat([ABC_df, BCD_df])"
   ]
  },
  {
   "cell_type": "code",
   "execution_count": 4,
   "id": "afb27230",
   "metadata": {
    "ExecuteTime": {
     "end_time": "2023-06-02T06:55:10.062387400Z",
     "start_time": "2023-06-02T06:55:10.008986800Z"
    },
    "slideshow": {
     "slide_type": "subslide"
    }
   },
   "outputs": [
    {
     "data": {
      "text/html": [
       "<div>\n",
       "<style scoped>\n",
       "    .dataframe tbody tr th:only-of-type {\n",
       "        vertical-align: middle;\n",
       "    }\n",
       "\n",
       "    .dataframe tbody tr th {\n",
       "        vertical-align: top;\n",
       "    }\n",
       "\n",
       "    .dataframe thead th {\n",
       "        text-align: right;\n",
       "    }\n",
       "</style>\n",
       "<table border=\"1\" class=\"dataframe\">\n",
       "  <thead>\n",
       "    <tr style=\"text-align: right;\">\n",
       "      <th></th>\n",
       "      <th>A</th>\n",
       "      <th>B</th>\n",
       "      <th>C</th>\n",
       "      <th>D</th>\n",
       "    </tr>\n",
       "  </thead>\n",
       "  <tbody>\n",
       "    <tr>\n",
       "      <th>0</th>\n",
       "      <td>1.0</td>\n",
       "      <td>10</td>\n",
       "      <td>100</td>\n",
       "      <td>NaN</td>\n",
       "    </tr>\n",
       "    <tr>\n",
       "      <th>0</th>\n",
       "      <td>NaN</td>\n",
       "      <td>10</td>\n",
       "      <td>100</td>\n",
       "      <td>1000.0</td>\n",
       "    </tr>\n",
       "  </tbody>\n",
       "</table>\n",
       "</div>"
      ],
      "text/plain": [
       "     A   B    C       D\n",
       "0  1.0  10  100     NaN\n",
       "0  NaN  10  100  1000.0"
      ]
     },
     "execution_count": 4,
     "metadata": {},
     "output_type": "execute_result"
    }
   ],
   "source": [
    "# Since df label indices need not be unique\n",
    "pd.concat([ABC_df, BCD_df]).loc[0]"
   ]
  },
  {
   "cell_type": "code",
   "execution_count": 5,
   "id": "9af5f9a1",
   "metadata": {
    "ExecuteTime": {
     "end_time": "2023-06-02T06:55:10.093632700Z",
     "start_time": "2023-06-02T06:55:10.031146Z"
    },
    "slideshow": {
     "slide_type": "-"
    }
   },
   "outputs": [
    {
     "data": {
      "text/html": [
       "<div>\n",
       "<style scoped>\n",
       "    .dataframe tbody tr th:only-of-type {\n",
       "        vertical-align: middle;\n",
       "    }\n",
       "\n",
       "    .dataframe tbody tr th {\n",
       "        vertical-align: top;\n",
       "    }\n",
       "\n",
       "    .dataframe thead th {\n",
       "        text-align: right;\n",
       "    }\n",
       "</style>\n",
       "<table border=\"1\" class=\"dataframe\">\n",
       "  <thead>\n",
       "    <tr style=\"text-align: right;\">\n",
       "      <th></th>\n",
       "      <th>A</th>\n",
       "      <th>B</th>\n",
       "      <th>C</th>\n",
       "      <th>D</th>\n",
       "    </tr>\n",
       "  </thead>\n",
       "  <tbody>\n",
       "    <tr>\n",
       "      <th>0</th>\n",
       "      <td>1.0</td>\n",
       "      <td>10</td>\n",
       "      <td>100</td>\n",
       "      <td>NaN</td>\n",
       "    </tr>\n",
       "    <tr>\n",
       "      <th>1</th>\n",
       "      <td>2.0</td>\n",
       "      <td>20</td>\n",
       "      <td>200</td>\n",
       "      <td>NaN</td>\n",
       "    </tr>\n",
       "    <tr>\n",
       "      <th>2</th>\n",
       "      <td>3.0</td>\n",
       "      <td>30</td>\n",
       "      <td>300</td>\n",
       "      <td>NaN</td>\n",
       "    </tr>\n",
       "    <tr>\n",
       "      <th>3</th>\n",
       "      <td>4.0</td>\n",
       "      <td>40</td>\n",
       "      <td>400</td>\n",
       "      <td>NaN</td>\n",
       "    </tr>\n",
       "    <tr>\n",
       "      <th>4</th>\n",
       "      <td>NaN</td>\n",
       "      <td>10</td>\n",
       "      <td>100</td>\n",
       "      <td>1000.0</td>\n",
       "    </tr>\n",
       "    <tr>\n",
       "      <th>5</th>\n",
       "      <td>NaN</td>\n",
       "      <td>20</td>\n",
       "      <td>200</td>\n",
       "      <td>2000.0</td>\n",
       "    </tr>\n",
       "    <tr>\n",
       "      <th>6</th>\n",
       "      <td>NaN</td>\n",
       "      <td>30</td>\n",
       "      <td>300</td>\n",
       "      <td>3000.0</td>\n",
       "    </tr>\n",
       "    <tr>\n",
       "      <th>7</th>\n",
       "      <td>NaN</td>\n",
       "      <td>40</td>\n",
       "      <td>400</td>\n",
       "      <td>4000.0</td>\n",
       "    </tr>\n",
       "  </tbody>\n",
       "</table>\n",
       "</div>"
      ],
      "text/plain": [
       "     A   B    C       D\n",
       "0  1.0  10  100     NaN\n",
       "1  2.0  20  200     NaN\n",
       "2  3.0  30  300     NaN\n",
       "3  4.0  40  400     NaN\n",
       "4  NaN  10  100  1000.0\n",
       "5  NaN  20  200  2000.0\n",
       "6  NaN  30  300  3000.0\n",
       "7  NaN  40  400  4000.0"
      ]
     },
     "execution_count": 5,
     "metadata": {},
     "output_type": "execute_result"
    }
   ],
   "source": [
    "# to reset indexes\n",
    "pd.concat([ABC_df, BCD_df], ignore_index=True)\n",
    "# This is the same as \n",
    "# pd.concat([ABC_df, BCD_df]).reset_index(drop=True)"
   ]
  },
  {
   "cell_type": "markdown",
   "id": "1661c5fd",
   "metadata": {
    "slideshow": {
     "slide_type": "subslide"
    }
   },
   "source": [
    "### Concatenate columns\n",
    "pd.concat(list_dfs, axis=1)\n",
    "<img height=\"400\" src=\"C:\\Github\\pandas_demo\\images\\concatenate_columns.jpg\" width=\"400\"/>"
   ]
  },
  {
   "cell_type": "code",
   "execution_count": 6,
   "id": "6ee27823",
   "metadata": {
    "ExecuteTime": {
     "end_time": "2023-06-02T06:55:10.093632700Z",
     "start_time": "2023-06-02T06:55:10.046830300Z"
    },
    "slideshow": {
     "slide_type": "subslide"
    }
   },
   "outputs": [
    {
     "data": {
      "text/html": [
       "<div>\n",
       "<style scoped>\n",
       "    .dataframe tbody tr th:only-of-type {\n",
       "        vertical-align: middle;\n",
       "    }\n",
       "\n",
       "    .dataframe tbody tr th {\n",
       "        vertical-align: top;\n",
       "    }\n",
       "\n",
       "    .dataframe thead th {\n",
       "        text-align: right;\n",
       "    }\n",
       "</style>\n",
       "<table border=\"1\" class=\"dataframe\">\n",
       "  <thead>\n",
       "    <tr style=\"text-align: right;\">\n",
       "      <th></th>\n",
       "      <th>A</th>\n",
       "      <th>B</th>\n",
       "      <th>C</th>\n",
       "      <th>B</th>\n",
       "      <th>C</th>\n",
       "      <th>D</th>\n",
       "    </tr>\n",
       "  </thead>\n",
       "  <tbody>\n",
       "    <tr>\n",
       "      <th>0</th>\n",
       "      <td>1</td>\n",
       "      <td>10</td>\n",
       "      <td>100</td>\n",
       "      <td>10</td>\n",
       "      <td>100</td>\n",
       "      <td>1000</td>\n",
       "    </tr>\n",
       "    <tr>\n",
       "      <th>1</th>\n",
       "      <td>2</td>\n",
       "      <td>20</td>\n",
       "      <td>200</td>\n",
       "      <td>20</td>\n",
       "      <td>200</td>\n",
       "      <td>2000</td>\n",
       "    </tr>\n",
       "    <tr>\n",
       "      <th>2</th>\n",
       "      <td>3</td>\n",
       "      <td>30</td>\n",
       "      <td>300</td>\n",
       "      <td>30</td>\n",
       "      <td>300</td>\n",
       "      <td>3000</td>\n",
       "    </tr>\n",
       "    <tr>\n",
       "      <th>3</th>\n",
       "      <td>4</td>\n",
       "      <td>40</td>\n",
       "      <td>400</td>\n",
       "      <td>40</td>\n",
       "      <td>400</td>\n",
       "      <td>4000</td>\n",
       "    </tr>\n",
       "  </tbody>\n",
       "</table>\n",
       "</div>"
      ],
      "text/plain": [
       "   A   B    C   B    C     D\n",
       "0  1  10  100  10  100  1000\n",
       "1  2  20  200  20  200  2000\n",
       "2  3  30  300  30  300  3000\n",
       "3  4  40  400  40  400  4000"
      ]
     },
     "execution_count": 6,
     "metadata": {},
     "output_type": "execute_result"
    }
   ],
   "source": [
    "# Column concatenation\n",
    "# Set axis=1 to concatenate columns\n",
    "pd.concat([ABC_df, BCD_df], axis=1)"
   ]
  },
  {
   "cell_type": "markdown",
   "id": "42cc3e6b",
   "metadata": {
    "slideshow": {
     "slide_type": "subslide"
    }
   },
   "source": [
    "## Merge\n",
    "\n",
    "- Pandas merge functionality is very similar to sql joins\n",
    "<img height=\"400\" src=\"C:\\Github\\pandas_demo\\images\\merge.jpg\" width=\"400\"/>"
   ]
  },
  {
   "cell_type": "code",
   "execution_count": 7,
   "id": "bcd8c863",
   "metadata": {
    "ExecuteTime": {
     "end_time": "2023-06-02T06:55:10.131396900Z",
     "start_time": "2023-06-02T06:55:10.062387400Z"
    },
    "slideshow": {
     "slide_type": "subslide"
    }
   },
   "outputs": [
    {
     "data": {
      "text/html": [
       "<div>\n",
       "<style scoped>\n",
       "    .dataframe tbody tr th:only-of-type {\n",
       "        vertical-align: middle;\n",
       "    }\n",
       "\n",
       "    .dataframe tbody tr th {\n",
       "        vertical-align: top;\n",
       "    }\n",
       "\n",
       "    .dataframe thead th {\n",
       "        text-align: right;\n",
       "    }\n",
       "</style>\n",
       "<table border=\"1\" class=\"dataframe\">\n",
       "  <thead>\n",
       "    <tr style=\"text-align: right;\">\n",
       "      <th></th>\n",
       "      <th>A</th>\n",
       "      <th>B</th>\n",
       "      <th>C_x</th>\n",
       "      <th>C_y</th>\n",
       "      <th>D</th>\n",
       "    </tr>\n",
       "  </thead>\n",
       "  <tbody>\n",
       "    <tr>\n",
       "      <th>0</th>\n",
       "      <td>1</td>\n",
       "      <td>10</td>\n",
       "      <td>100</td>\n",
       "      <td>100</td>\n",
       "      <td>1000</td>\n",
       "    </tr>\n",
       "    <tr>\n",
       "      <th>1</th>\n",
       "      <td>2</td>\n",
       "      <td>20</td>\n",
       "      <td>200</td>\n",
       "      <td>200</td>\n",
       "      <td>2000</td>\n",
       "    </tr>\n",
       "    <tr>\n",
       "      <th>2</th>\n",
       "      <td>3</td>\n",
       "      <td>30</td>\n",
       "      <td>300</td>\n",
       "      <td>300</td>\n",
       "      <td>3000</td>\n",
       "    </tr>\n",
       "    <tr>\n",
       "      <th>3</th>\n",
       "      <td>4</td>\n",
       "      <td>40</td>\n",
       "      <td>400</td>\n",
       "      <td>400</td>\n",
       "      <td>4000</td>\n",
       "    </tr>\n",
       "  </tbody>\n",
       "</table>\n",
       "</div>"
      ],
      "text/plain": [
       "   A   B  C_x  C_y     D\n",
       "0  1  10  100  100  1000\n",
       "1  2  20  200  200  2000\n",
       "2  3  30  300  300  3000\n",
       "3  4  40  400  400  4000"
      ]
     },
     "execution_count": 7,
     "metadata": {},
     "output_type": "execute_result"
    }
   ],
   "source": [
    "# Example on Merge\n",
    "pd.merge(\n",
    "    ABC_df, BCD_df,\n",
    "    how=\"left\", on=\"B\"\n",
    ")\n",
    "# Note the difference vs concatenate where duplicate columns have _x / _y\n",
    "# This can be configured by overriding the suffixes parameter\n"
   ]
  },
  {
   "cell_type": "markdown",
   "id": "b1be0a86",
   "metadata": {
    "ExecuteTime": {
     "end_time": "2023-06-02T05:01:05.709527500Z",
     "start_time": "2023-06-02T05:01:05.640535400Z"
    },
    "slideshow": {
     "slide_type": "subslide"
    }
   },
   "source": [
    "### Other useful methods when doing merge\n",
    "\n",
    "- Validations\n",
    "- Indicators\n"
   ]
  },
  {
   "cell_type": "code",
   "execution_count": 8,
   "id": "97800f49",
   "metadata": {
    "ExecuteTime": {
     "end_time": "2023-06-02T06:55:10.178261300Z",
     "start_time": "2023-06-02T06:55:10.077980800Z"
    },
    "slideshow": {
     "slide_type": "subslide"
    }
   },
   "outputs": [
    {
     "data": {
      "text/html": [
       "<div>\n",
       "<style scoped>\n",
       "    .dataframe tbody tr th:only-of-type {\n",
       "        vertical-align: middle;\n",
       "    }\n",
       "\n",
       "    .dataframe tbody tr th {\n",
       "        vertical-align: top;\n",
       "    }\n",
       "\n",
       "    .dataframe thead th {\n",
       "        text-align: right;\n",
       "    }\n",
       "</style>\n",
       "<table border=\"1\" class=\"dataframe\">\n",
       "  <thead>\n",
       "    <tr style=\"text-align: right;\">\n",
       "      <th></th>\n",
       "      <th>A</th>\n",
       "      <th>B</th>\n",
       "      <th>C_x</th>\n",
       "      <th>C_y</th>\n",
       "      <th>D</th>\n",
       "    </tr>\n",
       "  </thead>\n",
       "  <tbody>\n",
       "    <tr>\n",
       "      <th>0</th>\n",
       "      <td>1</td>\n",
       "      <td>10</td>\n",
       "      <td>100</td>\n",
       "      <td>100</td>\n",
       "      <td>1000</td>\n",
       "    </tr>\n",
       "    <tr>\n",
       "      <th>1</th>\n",
       "      <td>2</td>\n",
       "      <td>20</td>\n",
       "      <td>200</td>\n",
       "      <td>200</td>\n",
       "      <td>2000</td>\n",
       "    </tr>\n",
       "    <tr>\n",
       "      <th>2</th>\n",
       "      <td>3</td>\n",
       "      <td>30</td>\n",
       "      <td>300</td>\n",
       "      <td>300</td>\n",
       "      <td>3000</td>\n",
       "    </tr>\n",
       "    <tr>\n",
       "      <th>3</th>\n",
       "      <td>4</td>\n",
       "      <td>40</td>\n",
       "      <td>400</td>\n",
       "      <td>400</td>\n",
       "      <td>4000</td>\n",
       "    </tr>\n",
       "  </tbody>\n",
       "</table>\n",
       "</div>"
      ],
      "text/plain": [
       "   A   B  C_x  C_y     D\n",
       "0  1  10  100  100  1000\n",
       "1  2  20  200  200  2000\n",
       "2  3  30  300  300  3000\n",
       "3  4  40  400  400  4000"
      ]
     },
     "execution_count": 8,
     "metadata": {},
     "output_type": "execute_result"
    }
   ],
   "source": [
    "# merge validations\n",
    "# validating keys must be unique \"one_to_one\"\n",
    "# This works as keys in B is unique\n",
    "pd.merge(\n",
    "    ABC_df, BCD_df,\n",
    "    how=\"left\", on=\"B\",\n",
    "    validate=\"one_to_one\"\n",
    ")"
   ]
  },
  {
   "cell_type": "code",
   "execution_count": 9,
   "id": "4bdd081a",
   "metadata": {
    "ExecuteTime": {
     "end_time": "2023-06-02T06:55:10.662797400Z",
     "start_time": "2023-06-02T06:55:10.093632700Z"
    },
    "slideshow": {
     "slide_type": "subslide"
    }
   },
   "outputs": [
    {
     "ename": "MergeError",
     "evalue": "Merge keys are not unique in right dataset; not a one-to-one merge",
     "output_type": "error",
     "traceback": [
      "\u001B[1;31m---------------------------------------------------------------------------\u001B[0m",
      "\u001B[1;31mMergeError\u001B[0m                                Traceback (most recent call last)",
      "Cell \u001B[1;32mIn[9], line 10\u001B[0m\n\u001B[0;32m      1\u001B[0m BCD_2_df \u001B[38;5;241m=\u001B[39m pd\u001B[38;5;241m.\u001B[39mDataFrame(\n\u001B[0;32m      2\u001B[0m     {\n\u001B[0;32m      3\u001B[0m         \u001B[38;5;124m\"\u001B[39m\u001B[38;5;124mB\u001B[39m\u001B[38;5;124m\"\u001B[39m: [\u001B[38;5;241m10\u001B[39m, \u001B[38;5;241m20\u001B[39m, \u001B[38;5;241m20\u001B[39m, \u001B[38;5;241m40\u001B[39m],\n\u001B[1;32m   (...)\u001B[0m\n\u001B[0;32m      6\u001B[0m     }\n\u001B[0;32m      7\u001B[0m )\n\u001B[0;32m      9\u001B[0m \u001B[38;5;66;03m# raise an error as B is no longer unique\u001B[39;00m\n\u001B[1;32m---> 10\u001B[0m \u001B[43mpd\u001B[49m\u001B[38;5;241;43m.\u001B[39;49m\u001B[43mmerge\u001B[49m\u001B[43m(\u001B[49m\n\u001B[0;32m     11\u001B[0m \u001B[43m    \u001B[49m\u001B[43mABC_df\u001B[49m\u001B[43m,\u001B[49m\u001B[43m \u001B[49m\u001B[43mBCD_2_df\u001B[49m\u001B[43m,\u001B[49m\n\u001B[0;32m     12\u001B[0m \u001B[43m    \u001B[49m\u001B[43mhow\u001B[49m\u001B[38;5;241;43m=\u001B[39;49m\u001B[38;5;124;43m\"\u001B[39;49m\u001B[38;5;124;43mleft\u001B[39;49m\u001B[38;5;124;43m\"\u001B[39;49m\u001B[43m,\u001B[49m\u001B[43m \u001B[49m\u001B[43mon\u001B[49m\u001B[38;5;241;43m=\u001B[39;49m\u001B[38;5;124;43m\"\u001B[39;49m\u001B[38;5;124;43mB\u001B[39;49m\u001B[38;5;124;43m\"\u001B[39;49m\u001B[43m,\u001B[49m\n\u001B[0;32m     13\u001B[0m \u001B[43m    \u001B[49m\u001B[43mvalidate\u001B[49m\u001B[38;5;241;43m=\u001B[39;49m\u001B[38;5;124;43m\"\u001B[39;49m\u001B[38;5;124;43mone_to_one\u001B[39;49m\u001B[38;5;124;43m\"\u001B[39;49m\n\u001B[0;32m     14\u001B[0m \u001B[43m)\u001B[49m\n",
      "File \u001B[1;32mC:\\Github\\pandas_demo\\venv\\lib\\site-packages\\pandas\\core\\reshape\\merge.py:144\u001B[0m, in \u001B[0;36mmerge\u001B[1;34m(left, right, how, on, left_on, right_on, left_index, right_index, sort, suffixes, copy, indicator, validate)\u001B[0m\n\u001B[0;32m    127\u001B[0m \u001B[38;5;129m@Substitution\u001B[39m(\u001B[38;5;124m\"\u001B[39m\u001B[38;5;130;01m\\n\u001B[39;00m\u001B[38;5;124mleft : DataFrame or named Series\u001B[39m\u001B[38;5;124m\"\u001B[39m)\n\u001B[0;32m    128\u001B[0m \u001B[38;5;129m@Appender\u001B[39m(_merge_doc, indents\u001B[38;5;241m=\u001B[39m\u001B[38;5;241m0\u001B[39m)\n\u001B[0;32m    129\u001B[0m \u001B[38;5;28;01mdef\u001B[39;00m \u001B[38;5;21mmerge\u001B[39m(\n\u001B[1;32m   (...)\u001B[0m\n\u001B[0;32m    142\u001B[0m     validate: \u001B[38;5;28mstr\u001B[39m \u001B[38;5;241m|\u001B[39m \u001B[38;5;28;01mNone\u001B[39;00m \u001B[38;5;241m=\u001B[39m \u001B[38;5;28;01mNone\u001B[39;00m,\n\u001B[0;32m    143\u001B[0m ) \u001B[38;5;241m-\u001B[39m\u001B[38;5;241m>\u001B[39m DataFrame:\n\u001B[1;32m--> 144\u001B[0m     op \u001B[38;5;241m=\u001B[39m \u001B[43m_MergeOperation\u001B[49m\u001B[43m(\u001B[49m\n\u001B[0;32m    145\u001B[0m \u001B[43m        \u001B[49m\u001B[43mleft\u001B[49m\u001B[43m,\u001B[49m\n\u001B[0;32m    146\u001B[0m \u001B[43m        \u001B[49m\u001B[43mright\u001B[49m\u001B[43m,\u001B[49m\n\u001B[0;32m    147\u001B[0m \u001B[43m        \u001B[49m\u001B[43mhow\u001B[49m\u001B[38;5;241;43m=\u001B[39;49m\u001B[43mhow\u001B[49m\u001B[43m,\u001B[49m\n\u001B[0;32m    148\u001B[0m \u001B[43m        \u001B[49m\u001B[43mon\u001B[49m\u001B[38;5;241;43m=\u001B[39;49m\u001B[43mon\u001B[49m\u001B[43m,\u001B[49m\n\u001B[0;32m    149\u001B[0m \u001B[43m        \u001B[49m\u001B[43mleft_on\u001B[49m\u001B[38;5;241;43m=\u001B[39;49m\u001B[43mleft_on\u001B[49m\u001B[43m,\u001B[49m\n\u001B[0;32m    150\u001B[0m \u001B[43m        \u001B[49m\u001B[43mright_on\u001B[49m\u001B[38;5;241;43m=\u001B[39;49m\u001B[43mright_on\u001B[49m\u001B[43m,\u001B[49m\n\u001B[0;32m    151\u001B[0m \u001B[43m        \u001B[49m\u001B[43mleft_index\u001B[49m\u001B[38;5;241;43m=\u001B[39;49m\u001B[43mleft_index\u001B[49m\u001B[43m,\u001B[49m\n\u001B[0;32m    152\u001B[0m \u001B[43m        \u001B[49m\u001B[43mright_index\u001B[49m\u001B[38;5;241;43m=\u001B[39;49m\u001B[43mright_index\u001B[49m\u001B[43m,\u001B[49m\n\u001B[0;32m    153\u001B[0m \u001B[43m        \u001B[49m\u001B[43msort\u001B[49m\u001B[38;5;241;43m=\u001B[39;49m\u001B[43msort\u001B[49m\u001B[43m,\u001B[49m\n\u001B[0;32m    154\u001B[0m \u001B[43m        \u001B[49m\u001B[43msuffixes\u001B[49m\u001B[38;5;241;43m=\u001B[39;49m\u001B[43msuffixes\u001B[49m\u001B[43m,\u001B[49m\n\u001B[0;32m    155\u001B[0m \u001B[43m        \u001B[49m\u001B[43mindicator\u001B[49m\u001B[38;5;241;43m=\u001B[39;49m\u001B[43mindicator\u001B[49m\u001B[43m,\u001B[49m\n\u001B[0;32m    156\u001B[0m \u001B[43m        \u001B[49m\u001B[43mvalidate\u001B[49m\u001B[38;5;241;43m=\u001B[39;49m\u001B[43mvalidate\u001B[49m\u001B[43m,\u001B[49m\n\u001B[0;32m    157\u001B[0m \u001B[43m    \u001B[49m\u001B[43m)\u001B[49m\n\u001B[0;32m    158\u001B[0m     \u001B[38;5;28;01mreturn\u001B[39;00m op\u001B[38;5;241m.\u001B[39mget_result(copy\u001B[38;5;241m=\u001B[39mcopy)\n",
      "File \u001B[1;32mC:\\Github\\pandas_demo\\venv\\lib\\site-packages\\pandas\\core\\reshape\\merge.py:743\u001B[0m, in \u001B[0;36m_MergeOperation.__init__\u001B[1;34m(self, left, right, how, on, left_on, right_on, axis, left_index, right_index, sort, suffixes, indicator, validate)\u001B[0m\n\u001B[0;32m    739\u001B[0m \u001B[38;5;66;03m# If argument passed to validate,\u001B[39;00m\n\u001B[0;32m    740\u001B[0m \u001B[38;5;66;03m# check if columns specified as unique\u001B[39;00m\n\u001B[0;32m    741\u001B[0m \u001B[38;5;66;03m# are in fact unique.\u001B[39;00m\n\u001B[0;32m    742\u001B[0m \u001B[38;5;28;01mif\u001B[39;00m validate \u001B[38;5;129;01mis\u001B[39;00m \u001B[38;5;129;01mnot\u001B[39;00m \u001B[38;5;28;01mNone\u001B[39;00m:\n\u001B[1;32m--> 743\u001B[0m     \u001B[38;5;28;43mself\u001B[39;49m\u001B[38;5;241;43m.\u001B[39;49m\u001B[43m_validate\u001B[49m\u001B[43m(\u001B[49m\u001B[43mvalidate\u001B[49m\u001B[43m)\u001B[49m\n",
      "File \u001B[1;32mC:\\Github\\pandas_demo\\venv\\lib\\site-packages\\pandas\\core\\reshape\\merge.py:1566\u001B[0m, in \u001B[0;36m_MergeOperation._validate\u001B[1;34m(self, validate)\u001B[0m\n\u001B[0;32m   1562\u001B[0m         \u001B[38;5;28;01mraise\u001B[39;00m MergeError(\n\u001B[0;32m   1563\u001B[0m             \u001B[38;5;124m\"\u001B[39m\u001B[38;5;124mMerge keys are not unique in left dataset; not a one-to-one merge\u001B[39m\u001B[38;5;124m\"\u001B[39m\n\u001B[0;32m   1564\u001B[0m         )\n\u001B[0;32m   1565\u001B[0m     \u001B[38;5;28;01mif\u001B[39;00m \u001B[38;5;129;01mnot\u001B[39;00m right_unique:\n\u001B[1;32m-> 1566\u001B[0m         \u001B[38;5;28;01mraise\u001B[39;00m MergeError(\n\u001B[0;32m   1567\u001B[0m             \u001B[38;5;124m\"\u001B[39m\u001B[38;5;124mMerge keys are not unique in right dataset; not a one-to-one merge\u001B[39m\u001B[38;5;124m\"\u001B[39m\n\u001B[0;32m   1568\u001B[0m         )\n\u001B[0;32m   1570\u001B[0m \u001B[38;5;28;01melif\u001B[39;00m validate \u001B[38;5;129;01min\u001B[39;00m [\u001B[38;5;124m\"\u001B[39m\u001B[38;5;124mone_to_many\u001B[39m\u001B[38;5;124m\"\u001B[39m, \u001B[38;5;124m\"\u001B[39m\u001B[38;5;124m1:m\u001B[39m\u001B[38;5;124m\"\u001B[39m]:\n\u001B[0;32m   1571\u001B[0m     \u001B[38;5;28;01mif\u001B[39;00m \u001B[38;5;129;01mnot\u001B[39;00m left_unique:\n",
      "\u001B[1;31mMergeError\u001B[0m: Merge keys are not unique in right dataset; not a one-to-one merge"
     ]
    }
   ],
   "source": [
    "BCD_2_df = pd.DataFrame(\n",
    "    {\n",
    "        \"B\": [10, 20, 20, 40],\n",
    "        \"C\": [100, 200, 300, 400],\n",
    "        \"D\": [1000, 2000, 3000, 4000],\n",
    "    }\n",
    ")\n",
    "\n",
    "# raise an error as B is no longer unique\n",
    "pd.merge(\n",
    "    ABC_df, BCD_2_df,\n",
    "    how=\"left\", on=\"B\",\n",
    "    validate=\"one_to_one\"\n",
    ")"
   ]
  },
  {
   "cell_type": "code",
   "execution_count": 10,
   "id": "ebe1bd90",
   "metadata": {
    "ExecuteTime": {
     "end_time": "2023-06-02T06:55:39.024340Z",
     "start_time": "2023-06-02T06:55:39.008717900Z"
    },
    "slideshow": {
     "slide_type": "subslide"
    }
   },
   "outputs": [
    {
     "data": {
      "text/html": [
       "<div>\n",
       "<style scoped>\n",
       "    .dataframe tbody tr th:only-of-type {\n",
       "        vertical-align: middle;\n",
       "    }\n",
       "\n",
       "    .dataframe tbody tr th {\n",
       "        vertical-align: top;\n",
       "    }\n",
       "\n",
       "    .dataframe thead th {\n",
       "        text-align: right;\n",
       "    }\n",
       "</style>\n",
       "<table border=\"1\" class=\"dataframe\">\n",
       "  <thead>\n",
       "    <tr style=\"text-align: right;\">\n",
       "      <th></th>\n",
       "      <th>A</th>\n",
       "      <th>B</th>\n",
       "      <th>C_x</th>\n",
       "      <th>C_y</th>\n",
       "      <th>D</th>\n",
       "    </tr>\n",
       "  </thead>\n",
       "  <tbody>\n",
       "    <tr>\n",
       "      <th>0</th>\n",
       "      <td>1</td>\n",
       "      <td>10</td>\n",
       "      <td>100</td>\n",
       "      <td>100.0</td>\n",
       "      <td>1000.0</td>\n",
       "    </tr>\n",
       "    <tr>\n",
       "      <th>1</th>\n",
       "      <td>2</td>\n",
       "      <td>20</td>\n",
       "      <td>200</td>\n",
       "      <td>200.0</td>\n",
       "      <td>2000.0</td>\n",
       "    </tr>\n",
       "    <tr>\n",
       "      <th>2</th>\n",
       "      <td>2</td>\n",
       "      <td>20</td>\n",
       "      <td>200</td>\n",
       "      <td>300.0</td>\n",
       "      <td>3000.0</td>\n",
       "    </tr>\n",
       "    <tr>\n",
       "      <th>3</th>\n",
       "      <td>3</td>\n",
       "      <td>30</td>\n",
       "      <td>300</td>\n",
       "      <td>NaN</td>\n",
       "      <td>NaN</td>\n",
       "    </tr>\n",
       "    <tr>\n",
       "      <th>4</th>\n",
       "      <td>4</td>\n",
       "      <td>40</td>\n",
       "      <td>400</td>\n",
       "      <td>400.0</td>\n",
       "      <td>4000.0</td>\n",
       "    </tr>\n",
       "  </tbody>\n",
       "</table>\n",
       "</div>"
      ],
      "text/plain": [
       "   A   B  C_x    C_y       D\n",
       "0  1  10  100  100.0  1000.0\n",
       "1  2  20  200  200.0  2000.0\n",
       "2  2  20  200  300.0  3000.0\n",
       "3  3  30  300    NaN     NaN\n",
       "4  4  40  400  400.0  4000.0"
      ]
     },
     "execution_count": 10,
     "metadata": {},
     "output_type": "execute_result"
    }
   ],
   "source": [
    "# No error if one to many is allowed\n",
    "pd.merge(\n",
    "    ABC_df, BCD_2_df,\n",
    "    how=\"left\", on=\"B\",\n",
    "    validate=\"one_to_many\"\n",
    ")"
   ]
  },
  {
   "cell_type": "markdown",
   "id": "2be89525",
   "metadata": {
    "slideshow": {
     "slide_type": "subslide"
    }
   },
   "source": [
    "## Join\n",
    "- Similar to merge but is based on the index\n",
    "- Suffix must be provided for duplicate columns"
   ]
  },
  {
   "cell_type": "code",
   "execution_count": 11,
   "id": "370e944e",
   "metadata": {
    "ExecuteTime": {
     "end_time": "2023-06-02T06:55:41.267376200Z",
     "start_time": "2023-06-02T06:55:40.860259600Z"
    },
    "slideshow": {
     "slide_type": "subslide"
    }
   },
   "outputs": [
    {
     "ename": "ValueError",
     "evalue": "columns overlap but no suffix specified: Index(['B', 'C'], dtype='object')",
     "output_type": "error",
     "traceback": [
      "\u001B[1;31m---------------------------------------------------------------------------\u001B[0m",
      "\u001B[1;31mValueError\u001B[0m                                Traceback (most recent call last)",
      "Cell \u001B[1;32mIn[11], line 1\u001B[0m\n\u001B[1;32m----> 1\u001B[0m \u001B[43mABC_df\u001B[49m\u001B[38;5;241;43m.\u001B[39;49m\u001B[43mjoin\u001B[49m\u001B[43m(\u001B[49m\u001B[43mBCD_df\u001B[49m\u001B[43m)\u001B[49m\n",
      "File \u001B[1;32mC:\\Github\\pandas_demo\\venv\\lib\\site-packages\\pandas\\core\\frame.py:9734\u001B[0m, in \u001B[0;36mDataFrame.join\u001B[1;34m(self, other, on, how, lsuffix, rsuffix, sort, validate)\u001B[0m\n\u001B[0;32m   9571\u001B[0m \u001B[38;5;28;01mdef\u001B[39;00m \u001B[38;5;21mjoin\u001B[39m(\n\u001B[0;32m   9572\u001B[0m     \u001B[38;5;28mself\u001B[39m,\n\u001B[0;32m   9573\u001B[0m     other: DataFrame \u001B[38;5;241m|\u001B[39m Series \u001B[38;5;241m|\u001B[39m Iterable[DataFrame \u001B[38;5;241m|\u001B[39m Series],\n\u001B[1;32m   (...)\u001B[0m\n\u001B[0;32m   9579\u001B[0m     validate: \u001B[38;5;28mstr\u001B[39m \u001B[38;5;241m|\u001B[39m \u001B[38;5;28;01mNone\u001B[39;00m \u001B[38;5;241m=\u001B[39m \u001B[38;5;28;01mNone\u001B[39;00m,\n\u001B[0;32m   9580\u001B[0m ) \u001B[38;5;241m-\u001B[39m\u001B[38;5;241m>\u001B[39m DataFrame:\n\u001B[0;32m   9581\u001B[0m \u001B[38;5;250m    \u001B[39m\u001B[38;5;124;03m\"\"\"\u001B[39;00m\n\u001B[0;32m   9582\u001B[0m \u001B[38;5;124;03m    Join columns of another DataFrame.\u001B[39;00m\n\u001B[0;32m   9583\u001B[0m \n\u001B[1;32m   (...)\u001B[0m\n\u001B[0;32m   9732\u001B[0m \u001B[38;5;124;03m    5  K1  A5   B1\u001B[39;00m\n\u001B[0;32m   9733\u001B[0m \u001B[38;5;124;03m    \"\"\"\u001B[39;00m\n\u001B[1;32m-> 9734\u001B[0m     \u001B[38;5;28;01mreturn\u001B[39;00m \u001B[38;5;28;43mself\u001B[39;49m\u001B[38;5;241;43m.\u001B[39;49m\u001B[43m_join_compat\u001B[49m\u001B[43m(\u001B[49m\n\u001B[0;32m   9735\u001B[0m \u001B[43m        \u001B[49m\u001B[43mother\u001B[49m\u001B[43m,\u001B[49m\n\u001B[0;32m   9736\u001B[0m \u001B[43m        \u001B[49m\u001B[43mon\u001B[49m\u001B[38;5;241;43m=\u001B[39;49m\u001B[43mon\u001B[49m\u001B[43m,\u001B[49m\n\u001B[0;32m   9737\u001B[0m \u001B[43m        \u001B[49m\u001B[43mhow\u001B[49m\u001B[38;5;241;43m=\u001B[39;49m\u001B[43mhow\u001B[49m\u001B[43m,\u001B[49m\n\u001B[0;32m   9738\u001B[0m \u001B[43m        \u001B[49m\u001B[43mlsuffix\u001B[49m\u001B[38;5;241;43m=\u001B[39;49m\u001B[43mlsuffix\u001B[49m\u001B[43m,\u001B[49m\n\u001B[0;32m   9739\u001B[0m \u001B[43m        \u001B[49m\u001B[43mrsuffix\u001B[49m\u001B[38;5;241;43m=\u001B[39;49m\u001B[43mrsuffix\u001B[49m\u001B[43m,\u001B[49m\n\u001B[0;32m   9740\u001B[0m \u001B[43m        \u001B[49m\u001B[43msort\u001B[49m\u001B[38;5;241;43m=\u001B[39;49m\u001B[43msort\u001B[49m\u001B[43m,\u001B[49m\n\u001B[0;32m   9741\u001B[0m \u001B[43m        \u001B[49m\u001B[43mvalidate\u001B[49m\u001B[38;5;241;43m=\u001B[39;49m\u001B[43mvalidate\u001B[49m\u001B[43m,\u001B[49m\n\u001B[0;32m   9742\u001B[0m \u001B[43m    \u001B[49m\u001B[43m)\u001B[49m\n",
      "File \u001B[1;32mC:\\Github\\pandas_demo\\venv\\lib\\site-packages\\pandas\\core\\frame.py:9773\u001B[0m, in \u001B[0;36mDataFrame._join_compat\u001B[1;34m(self, other, on, how, lsuffix, rsuffix, sort, validate)\u001B[0m\n\u001B[0;32m   9763\u001B[0m     \u001B[38;5;28;01mif\u001B[39;00m how \u001B[38;5;241m==\u001B[39m \u001B[38;5;124m\"\u001B[39m\u001B[38;5;124mcross\u001B[39m\u001B[38;5;124m\"\u001B[39m:\n\u001B[0;32m   9764\u001B[0m         \u001B[38;5;28;01mreturn\u001B[39;00m merge(\n\u001B[0;32m   9765\u001B[0m             \u001B[38;5;28mself\u001B[39m,\n\u001B[0;32m   9766\u001B[0m             other,\n\u001B[1;32m   (...)\u001B[0m\n\u001B[0;32m   9771\u001B[0m             validate\u001B[38;5;241m=\u001B[39mvalidate,\n\u001B[0;32m   9772\u001B[0m         )\n\u001B[1;32m-> 9773\u001B[0m     \u001B[38;5;28;01mreturn\u001B[39;00m \u001B[43mmerge\u001B[49m\u001B[43m(\u001B[49m\n\u001B[0;32m   9774\u001B[0m \u001B[43m        \u001B[49m\u001B[38;5;28;43mself\u001B[39;49m\u001B[43m,\u001B[49m\n\u001B[0;32m   9775\u001B[0m \u001B[43m        \u001B[49m\u001B[43mother\u001B[49m\u001B[43m,\u001B[49m\n\u001B[0;32m   9776\u001B[0m \u001B[43m        \u001B[49m\u001B[43mleft_on\u001B[49m\u001B[38;5;241;43m=\u001B[39;49m\u001B[43mon\u001B[49m\u001B[43m,\u001B[49m\n\u001B[0;32m   9777\u001B[0m \u001B[43m        \u001B[49m\u001B[43mhow\u001B[49m\u001B[38;5;241;43m=\u001B[39;49m\u001B[43mhow\u001B[49m\u001B[43m,\u001B[49m\n\u001B[0;32m   9778\u001B[0m \u001B[43m        \u001B[49m\u001B[43mleft_index\u001B[49m\u001B[38;5;241;43m=\u001B[39;49m\u001B[43mon\u001B[49m\u001B[43m \u001B[49m\u001B[38;5;129;43;01mis\u001B[39;49;00m\u001B[43m \u001B[49m\u001B[38;5;28;43;01mNone\u001B[39;49;00m\u001B[43m,\u001B[49m\n\u001B[0;32m   9779\u001B[0m \u001B[43m        \u001B[49m\u001B[43mright_index\u001B[49m\u001B[38;5;241;43m=\u001B[39;49m\u001B[38;5;28;43;01mTrue\u001B[39;49;00m\u001B[43m,\u001B[49m\n\u001B[0;32m   9780\u001B[0m \u001B[43m        \u001B[49m\u001B[43msuffixes\u001B[49m\u001B[38;5;241;43m=\u001B[39;49m\u001B[43m(\u001B[49m\u001B[43mlsuffix\u001B[49m\u001B[43m,\u001B[49m\u001B[43m \u001B[49m\u001B[43mrsuffix\u001B[49m\u001B[43m)\u001B[49m\u001B[43m,\u001B[49m\n\u001B[0;32m   9781\u001B[0m \u001B[43m        \u001B[49m\u001B[43msort\u001B[49m\u001B[38;5;241;43m=\u001B[39;49m\u001B[43msort\u001B[49m\u001B[43m,\u001B[49m\n\u001B[0;32m   9782\u001B[0m \u001B[43m        \u001B[49m\u001B[43mvalidate\u001B[49m\u001B[38;5;241;43m=\u001B[39;49m\u001B[43mvalidate\u001B[49m\u001B[43m,\u001B[49m\n\u001B[0;32m   9783\u001B[0m \u001B[43m    \u001B[49m\u001B[43m)\u001B[49m\n\u001B[0;32m   9784\u001B[0m \u001B[38;5;28;01melse\u001B[39;00m:\n\u001B[0;32m   9785\u001B[0m     \u001B[38;5;28;01mif\u001B[39;00m on \u001B[38;5;129;01mis\u001B[39;00m \u001B[38;5;129;01mnot\u001B[39;00m \u001B[38;5;28;01mNone\u001B[39;00m:\n",
      "File \u001B[1;32mC:\\Github\\pandas_demo\\venv\\lib\\site-packages\\pandas\\core\\reshape\\merge.py:158\u001B[0m, in \u001B[0;36mmerge\u001B[1;34m(left, right, how, on, left_on, right_on, left_index, right_index, sort, suffixes, copy, indicator, validate)\u001B[0m\n\u001B[0;32m    127\u001B[0m \u001B[38;5;129m@Substitution\u001B[39m(\u001B[38;5;124m\"\u001B[39m\u001B[38;5;130;01m\\n\u001B[39;00m\u001B[38;5;124mleft : DataFrame or named Series\u001B[39m\u001B[38;5;124m\"\u001B[39m)\n\u001B[0;32m    128\u001B[0m \u001B[38;5;129m@Appender\u001B[39m(_merge_doc, indents\u001B[38;5;241m=\u001B[39m\u001B[38;5;241m0\u001B[39m)\n\u001B[0;32m    129\u001B[0m \u001B[38;5;28;01mdef\u001B[39;00m \u001B[38;5;21mmerge\u001B[39m(\n\u001B[1;32m   (...)\u001B[0m\n\u001B[0;32m    142\u001B[0m     validate: \u001B[38;5;28mstr\u001B[39m \u001B[38;5;241m|\u001B[39m \u001B[38;5;28;01mNone\u001B[39;00m \u001B[38;5;241m=\u001B[39m \u001B[38;5;28;01mNone\u001B[39;00m,\n\u001B[0;32m    143\u001B[0m ) \u001B[38;5;241m-\u001B[39m\u001B[38;5;241m>\u001B[39m DataFrame:\n\u001B[0;32m    144\u001B[0m     op \u001B[38;5;241m=\u001B[39m _MergeOperation(\n\u001B[0;32m    145\u001B[0m         left,\n\u001B[0;32m    146\u001B[0m         right,\n\u001B[1;32m   (...)\u001B[0m\n\u001B[0;32m    156\u001B[0m         validate\u001B[38;5;241m=\u001B[39mvalidate,\n\u001B[0;32m    157\u001B[0m     )\n\u001B[1;32m--> 158\u001B[0m     \u001B[38;5;28;01mreturn\u001B[39;00m \u001B[43mop\u001B[49m\u001B[38;5;241;43m.\u001B[39;49m\u001B[43mget_result\u001B[49m\u001B[43m(\u001B[49m\u001B[43mcopy\u001B[49m\u001B[38;5;241;43m=\u001B[39;49m\u001B[43mcopy\u001B[49m\u001B[43m)\u001B[49m\n",
      "File \u001B[1;32mC:\\Github\\pandas_demo\\venv\\lib\\site-packages\\pandas\\core\\reshape\\merge.py:807\u001B[0m, in \u001B[0;36m_MergeOperation.get_result\u001B[1;34m(self, copy)\u001B[0m\n\u001B[0;32m    803\u001B[0m     \u001B[38;5;28mself\u001B[39m\u001B[38;5;241m.\u001B[39mleft, \u001B[38;5;28mself\u001B[39m\u001B[38;5;241m.\u001B[39mright \u001B[38;5;241m=\u001B[39m \u001B[38;5;28mself\u001B[39m\u001B[38;5;241m.\u001B[39m_indicator_pre_merge(\u001B[38;5;28mself\u001B[39m\u001B[38;5;241m.\u001B[39mleft, \u001B[38;5;28mself\u001B[39m\u001B[38;5;241m.\u001B[39mright)\n\u001B[0;32m    805\u001B[0m join_index, left_indexer, right_indexer \u001B[38;5;241m=\u001B[39m \u001B[38;5;28mself\u001B[39m\u001B[38;5;241m.\u001B[39m_get_join_info()\n\u001B[1;32m--> 807\u001B[0m result \u001B[38;5;241m=\u001B[39m \u001B[38;5;28;43mself\u001B[39;49m\u001B[38;5;241;43m.\u001B[39;49m\u001B[43m_reindex_and_concat\u001B[49m\u001B[43m(\u001B[49m\n\u001B[0;32m    808\u001B[0m \u001B[43m    \u001B[49m\u001B[43mjoin_index\u001B[49m\u001B[43m,\u001B[49m\u001B[43m \u001B[49m\u001B[43mleft_indexer\u001B[49m\u001B[43m,\u001B[49m\u001B[43m \u001B[49m\u001B[43mright_indexer\u001B[49m\u001B[43m,\u001B[49m\u001B[43m \u001B[49m\u001B[43mcopy\u001B[49m\u001B[38;5;241;43m=\u001B[39;49m\u001B[43mcopy\u001B[49m\n\u001B[0;32m    809\u001B[0m \u001B[43m\u001B[49m\u001B[43m)\u001B[49m\n\u001B[0;32m    810\u001B[0m result \u001B[38;5;241m=\u001B[39m result\u001B[38;5;241m.\u001B[39m__finalize__(\u001B[38;5;28mself\u001B[39m, method\u001B[38;5;241m=\u001B[39m\u001B[38;5;28mself\u001B[39m\u001B[38;5;241m.\u001B[39m_merge_type)\n\u001B[0;32m    812\u001B[0m \u001B[38;5;28;01mif\u001B[39;00m \u001B[38;5;28mself\u001B[39m\u001B[38;5;241m.\u001B[39mindicator:\n",
      "File \u001B[1;32mC:\\Github\\pandas_demo\\venv\\lib\\site-packages\\pandas\\core\\reshape\\merge.py:759\u001B[0m, in \u001B[0;36m_MergeOperation._reindex_and_concat\u001B[1;34m(self, join_index, left_indexer, right_indexer, copy)\u001B[0m\n\u001B[0;32m    756\u001B[0m left \u001B[38;5;241m=\u001B[39m \u001B[38;5;28mself\u001B[39m\u001B[38;5;241m.\u001B[39mleft[:]\n\u001B[0;32m    757\u001B[0m right \u001B[38;5;241m=\u001B[39m \u001B[38;5;28mself\u001B[39m\u001B[38;5;241m.\u001B[39mright[:]\n\u001B[1;32m--> 759\u001B[0m llabels, rlabels \u001B[38;5;241m=\u001B[39m \u001B[43m_items_overlap_with_suffix\u001B[49m\u001B[43m(\u001B[49m\n\u001B[0;32m    760\u001B[0m \u001B[43m    \u001B[49m\u001B[38;5;28;43mself\u001B[39;49m\u001B[38;5;241;43m.\u001B[39;49m\u001B[43mleft\u001B[49m\u001B[38;5;241;43m.\u001B[39;49m\u001B[43m_info_axis\u001B[49m\u001B[43m,\u001B[49m\u001B[43m \u001B[49m\u001B[38;5;28;43mself\u001B[39;49m\u001B[38;5;241;43m.\u001B[39;49m\u001B[43mright\u001B[49m\u001B[38;5;241;43m.\u001B[39;49m\u001B[43m_info_axis\u001B[49m\u001B[43m,\u001B[49m\u001B[43m \u001B[49m\u001B[38;5;28;43mself\u001B[39;49m\u001B[38;5;241;43m.\u001B[39;49m\u001B[43msuffixes\u001B[49m\n\u001B[0;32m    761\u001B[0m \u001B[43m\u001B[49m\u001B[43m)\u001B[49m\n\u001B[0;32m    763\u001B[0m \u001B[38;5;28;01mif\u001B[39;00m left_indexer \u001B[38;5;129;01mis\u001B[39;00m \u001B[38;5;129;01mnot\u001B[39;00m \u001B[38;5;28;01mNone\u001B[39;00m \u001B[38;5;129;01mand\u001B[39;00m \u001B[38;5;129;01mnot\u001B[39;00m is_range_indexer(left_indexer, \u001B[38;5;28mlen\u001B[39m(left)):\n\u001B[0;32m    764\u001B[0m     \u001B[38;5;66;03m# Pinning the index here (and in the right code just below) is not\u001B[39;00m\n\u001B[0;32m    765\u001B[0m     \u001B[38;5;66;03m#  necessary, but makes the `.take` more performant if we have e.g.\u001B[39;00m\n\u001B[0;32m    766\u001B[0m     \u001B[38;5;66;03m#  a MultiIndex for left.index.\u001B[39;00m\n\u001B[0;32m    767\u001B[0m     lmgr \u001B[38;5;241m=\u001B[39m left\u001B[38;5;241m.\u001B[39m_mgr\u001B[38;5;241m.\u001B[39mreindex_indexer(\n\u001B[0;32m    768\u001B[0m         join_index,\n\u001B[0;32m    769\u001B[0m         left_indexer,\n\u001B[1;32m   (...)\u001B[0m\n\u001B[0;32m    774\u001B[0m         use_na_proxy\u001B[38;5;241m=\u001B[39m\u001B[38;5;28;01mTrue\u001B[39;00m,\n\u001B[0;32m    775\u001B[0m     )\n",
      "File \u001B[1;32mC:\\Github\\pandas_demo\\venv\\lib\\site-packages\\pandas\\core\\reshape\\merge.py:2572\u001B[0m, in \u001B[0;36m_items_overlap_with_suffix\u001B[1;34m(left, right, suffixes)\u001B[0m\n\u001B[0;32m   2569\u001B[0m lsuffix, rsuffix \u001B[38;5;241m=\u001B[39m suffixes\n\u001B[0;32m   2571\u001B[0m \u001B[38;5;28;01mif\u001B[39;00m \u001B[38;5;129;01mnot\u001B[39;00m lsuffix \u001B[38;5;129;01mand\u001B[39;00m \u001B[38;5;129;01mnot\u001B[39;00m rsuffix:\n\u001B[1;32m-> 2572\u001B[0m     \u001B[38;5;28;01mraise\u001B[39;00m \u001B[38;5;167;01mValueError\u001B[39;00m(\u001B[38;5;124mf\u001B[39m\u001B[38;5;124m\"\u001B[39m\u001B[38;5;124mcolumns overlap but no suffix specified: \u001B[39m\u001B[38;5;132;01m{\u001B[39;00mto_rename\u001B[38;5;132;01m}\u001B[39;00m\u001B[38;5;124m\"\u001B[39m)\n\u001B[0;32m   2574\u001B[0m \u001B[38;5;28;01mdef\u001B[39;00m \u001B[38;5;21mrenamer\u001B[39m(x, suffix):\n\u001B[0;32m   2575\u001B[0m \u001B[38;5;250m    \u001B[39m\u001B[38;5;124;03m\"\"\"\u001B[39;00m\n\u001B[0;32m   2576\u001B[0m \u001B[38;5;124;03m    Rename the left and right indices.\u001B[39;00m\n\u001B[0;32m   2577\u001B[0m \n\u001B[1;32m   (...)\u001B[0m\n\u001B[0;32m   2588\u001B[0m \u001B[38;5;124;03m    x : renamed column name\u001B[39;00m\n\u001B[0;32m   2589\u001B[0m \u001B[38;5;124;03m    \"\"\"\u001B[39;00m\n",
      "\u001B[1;31mValueError\u001B[0m: columns overlap but no suffix specified: Index(['B', 'C'], dtype='object')"
     ]
    }
   ],
   "source": [
    "ABC_df.join(BCD_df)"
   ]
  },
  {
   "cell_type": "code",
   "execution_count": 12,
   "id": "962f9e1d",
   "metadata": {
    "ExecuteTime": {
     "end_time": "2023-06-02T06:55:42.047957600Z",
     "start_time": "2023-06-02T06:55:42.016640400Z"
    },
    "slideshow": {
     "slide_type": "subslide"
    }
   },
   "outputs": [
    {
     "data": {
      "text/html": [
       "<div>\n",
       "<style scoped>\n",
       "    .dataframe tbody tr th:only-of-type {\n",
       "        vertical-align: middle;\n",
       "    }\n",
       "\n",
       "    .dataframe tbody tr th {\n",
       "        vertical-align: top;\n",
       "    }\n",
       "\n",
       "    .dataframe thead th {\n",
       "        text-align: right;\n",
       "    }\n",
       "</style>\n",
       "<table border=\"1\" class=\"dataframe\">\n",
       "  <thead>\n",
       "    <tr style=\"text-align: right;\">\n",
       "      <th></th>\n",
       "      <th>A</th>\n",
       "      <th>B_x</th>\n",
       "      <th>C_x</th>\n",
       "      <th>B_y</th>\n",
       "      <th>C_y</th>\n",
       "      <th>D</th>\n",
       "    </tr>\n",
       "  </thead>\n",
       "  <tbody>\n",
       "    <tr>\n",
       "      <th>0</th>\n",
       "      <td>1</td>\n",
       "      <td>10</td>\n",
       "      <td>100</td>\n",
       "      <td>10</td>\n",
       "      <td>100</td>\n",
       "      <td>1000</td>\n",
       "    </tr>\n",
       "    <tr>\n",
       "      <th>1</th>\n",
       "      <td>2</td>\n",
       "      <td>20</td>\n",
       "      <td>200</td>\n",
       "      <td>20</td>\n",
       "      <td>200</td>\n",
       "      <td>2000</td>\n",
       "    </tr>\n",
       "    <tr>\n",
       "      <th>2</th>\n",
       "      <td>3</td>\n",
       "      <td>30</td>\n",
       "      <td>300</td>\n",
       "      <td>30</td>\n",
       "      <td>300</td>\n",
       "      <td>3000</td>\n",
       "    </tr>\n",
       "    <tr>\n",
       "      <th>3</th>\n",
       "      <td>4</td>\n",
       "      <td>40</td>\n",
       "      <td>400</td>\n",
       "      <td>40</td>\n",
       "      <td>400</td>\n",
       "      <td>4000</td>\n",
       "    </tr>\n",
       "  </tbody>\n",
       "</table>\n",
       "</div>"
      ],
      "text/plain": [
       "   A  B_x  C_x  B_y  C_y     D\n",
       "0  1   10  100   10  100  1000\n",
       "1  2   20  200   20  200  2000\n",
       "2  3   30  300   30  300  3000\n",
       "3  4   40  400   40  400  4000"
      ]
     },
     "execution_count": 12,
     "metadata": {},
     "output_type": "execute_result"
    }
   ],
   "source": [
    "ABC_df.join(BCD_df, lsuffix=\"_x\", rsuffix=\"_y\")"
   ]
  },
  {
   "cell_type": "markdown",
   "id": "060b0e69",
   "metadata": {
    "slideshow": {
     "slide_type": "slide"
    }
   },
   "source": [
    "# 2. Filtering\n",
    "\n",
    "Filtering in Pandas involves selecting specific rows or columns from a DataFrame based on certain conditions. \n",
    "There are 2 main ways to filter data in Pandas:\n",
    "\n",
    "1. conditional statements / boolean indexing\n",
    "2. query expressions"
   ]
  },
  {
   "cell_type": "markdown",
   "id": "50a6a1ce",
   "metadata": {
    "slideshow": {
     "slide_type": "subslide"
    }
   },
   "source": [
    "## Conditional statements / boolean indexing"
   ]
  },
  {
   "cell_type": "code",
   "execution_count": 13,
   "id": "47a2e1b2",
   "metadata": {
    "ExecuteTime": {
     "end_time": "2023-06-02T06:55:45.042973300Z",
     "start_time": "2023-06-02T06:55:45.023120300Z"
    },
    "slideshow": {
     "slide_type": "-"
    }
   },
   "outputs": [
    {
     "data": {
      "text/html": [
       "<div>\n",
       "<style scoped>\n",
       "    .dataframe tbody tr th:only-of-type {\n",
       "        vertical-align: middle;\n",
       "    }\n",
       "\n",
       "    .dataframe tbody tr th {\n",
       "        vertical-align: top;\n",
       "    }\n",
       "\n",
       "    .dataframe thead th {\n",
       "        text-align: right;\n",
       "    }\n",
       "</style>\n",
       "<table border=\"1\" class=\"dataframe\">\n",
       "  <thead>\n",
       "    <tr style=\"text-align: right;\">\n",
       "      <th></th>\n",
       "      <th>A</th>\n",
       "      <th>B</th>\n",
       "      <th>C</th>\n",
       "    </tr>\n",
       "  </thead>\n",
       "  <tbody>\n",
       "    <tr>\n",
       "      <th>2</th>\n",
       "      <td>3</td>\n",
       "      <td>30</td>\n",
       "      <td>300</td>\n",
       "    </tr>\n",
       "    <tr>\n",
       "      <th>3</th>\n",
       "      <td>4</td>\n",
       "      <td>40</td>\n",
       "      <td>400</td>\n",
       "    </tr>\n",
       "  </tbody>\n",
       "</table>\n",
       "</div>"
      ],
      "text/plain": [
       "   A   B    C\n",
       "2  3  30  300\n",
       "3  4  40  400"
      ]
     },
     "execution_count": 13,
     "metadata": {},
     "output_type": "execute_result"
    }
   ],
   "source": [
    "# 1. Conditional statements / Boolean Indexing\n",
    "ABC_df[ABC_df[\"A\"] > 2]"
   ]
  },
  {
   "cell_type": "markdown",
   "id": "c9ea213f",
   "metadata": {
    "slideshow": {
     "slide_type": "subslide"
    }
   },
   "source": [
    "## Filter rows using a query expression"
   ]
  },
  {
   "cell_type": "code",
   "execution_count": 14,
   "id": "5881ea9b",
   "metadata": {
    "ExecuteTime": {
     "end_time": "2023-06-02T06:55:47.956119400Z",
     "start_time": "2023-06-02T06:55:47.915034900Z"
    },
    "slideshow": {
     "slide_type": "-"
    }
   },
   "outputs": [
    {
     "data": {
      "text/html": [
       "<div>\n",
       "<style scoped>\n",
       "    .dataframe tbody tr th:only-of-type {\n",
       "        vertical-align: middle;\n",
       "    }\n",
       "\n",
       "    .dataframe tbody tr th {\n",
       "        vertical-align: top;\n",
       "    }\n",
       "\n",
       "    .dataframe thead th {\n",
       "        text-align: right;\n",
       "    }\n",
       "</style>\n",
       "<table border=\"1\" class=\"dataframe\">\n",
       "  <thead>\n",
       "    <tr style=\"text-align: right;\">\n",
       "      <th></th>\n",
       "      <th>A</th>\n",
       "      <th>B</th>\n",
       "      <th>C</th>\n",
       "    </tr>\n",
       "  </thead>\n",
       "  <tbody>\n",
       "    <tr>\n",
       "      <th>2</th>\n",
       "      <td>3</td>\n",
       "      <td>30</td>\n",
       "      <td>300</td>\n",
       "    </tr>\n",
       "    <tr>\n",
       "      <th>3</th>\n",
       "      <td>4</td>\n",
       "      <td>40</td>\n",
       "      <td>400</td>\n",
       "    </tr>\n",
       "  </tbody>\n",
       "</table>\n",
       "</div>"
      ],
      "text/plain": [
       "   A   B    C\n",
       "2  3  30  300\n",
       "3  4  40  400"
      ]
     },
     "execution_count": 14,
     "metadata": {},
     "output_type": "execute_result"
    }
   ],
   "source": [
    "filtered_df = ABC_df.query('A > 2')\n",
    "filtered_df\n"
   ]
  },
  {
   "cell_type": "markdown",
   "id": "9ad6d4ec",
   "metadata": {
    "slideshow": {
     "slide_type": "subslide"
    }
   },
   "source": [
    "### Comparison\n",
    "Performance depends on the specific use case and the complexity of the condition being applied.\n",
    "\n",
    "In general, query expressions can provide faster performance for large DataFrames compared to conditional statements. This is because query expressions leverage underlying code optimizations and evaluation strategies implemented by Pandas. Query expressions are compiled and optimized, which allows for more efficient execution of the filtering operation.\n",
    "\n",
    "On the other hand, conditional statements are more flexible and allow for more complex conditions and logical expressions. They can handle a wider range of conditions and provide more explicit control over the filtering process.\n",
    "\n",
    "It's important to note that the performance difference between query expressions and conditional statements may not be significant for small DataFrames or simple conditions. The impact becomes more noticeable as the size of the DataFrame and the complexity of the condition increase."
   ]
  },
  {
   "cell_type": "code",
   "execution_count": null,
   "id": "13337273",
   "metadata": {
    "slideshow": {
     "slide_type": "subslide"
    }
   },
   "outputs": [],
   "source": [
    "## Performance example"
   ]
  },
  {
   "cell_type": "code",
   "execution_count": 19,
   "id": "71803f2a",
   "metadata": {
    "ExecuteTime": {
     "end_time": "2023-06-02T07:00:45.454259900Z",
     "start_time": "2023-06-02T07:00:44.674829500Z"
    },
    "slideshow": {
     "slide_type": "-"
    }
   },
   "outputs": [],
   "source": [
    "# Create a large DataFrame with random values\n",
    "np.random.seed(0)\n",
    "df = pd.DataFrame({\n",
    "    'A': np.random.randint(0, 1000, 10 ** 7),\n",
    "    'B': np.random.choice([\"a\", \"b\", \"c\"], 10 ** 7),\n",
    "    'C': np.random.randint(0, 1000, 10 ** 7),\n",
    "    'D': np.random.randint(0, 1000, 10 ** 7),\n",
    "})"
   ]
  },
  {
   "cell_type": "code",
   "execution_count": 34,
   "id": "ba2d0776",
   "metadata": {
    "ExecuteTime": {
     "end_time": "2023-06-02T07:05:38.435379600Z",
     "start_time": "2023-06-02T07:05:37.854332900Z"
    },
    "slideshow": {
     "slide_type": "subslide"
    }
   },
   "outputs": [
    {
     "data": {
      "text/html": [
       "<div>\n",
       "<style scoped>\n",
       "    .dataframe tbody tr th:only-of-type {\n",
       "        vertical-align: middle;\n",
       "    }\n",
       "\n",
       "    .dataframe tbody tr th {\n",
       "        vertical-align: top;\n",
       "    }\n",
       "\n",
       "    .dataframe thead th {\n",
       "        text-align: right;\n",
       "    }\n",
       "</style>\n",
       "<table border=\"1\" class=\"dataframe\">\n",
       "  <thead>\n",
       "    <tr style=\"text-align: right;\">\n",
       "      <th></th>\n",
       "      <th>A</th>\n",
       "      <th>B</th>\n",
       "      <th>C</th>\n",
       "      <th>D</th>\n",
       "    </tr>\n",
       "  </thead>\n",
       "  <tbody>\n",
       "    <tr>\n",
       "      <th>0</th>\n",
       "      <td>684</td>\n",
       "      <td>b</td>\n",
       "      <td>778</td>\n",
       "      <td>646</td>\n",
       "    </tr>\n",
       "    <tr>\n",
       "      <th>4</th>\n",
       "      <td>835</td>\n",
       "      <td>b</td>\n",
       "      <td>804</td>\n",
       "      <td>794</td>\n",
       "    </tr>\n",
       "    <tr>\n",
       "      <th>26</th>\n",
       "      <td>677</td>\n",
       "      <td>b</td>\n",
       "      <td>772</td>\n",
       "      <td>877</td>\n",
       "    </tr>\n",
       "    <tr>\n",
       "      <th>28</th>\n",
       "      <td>845</td>\n",
       "      <td>b</td>\n",
       "      <td>887</td>\n",
       "      <td>957</td>\n",
       "    </tr>\n",
       "    <tr>\n",
       "      <th>33</th>\n",
       "      <td>976</td>\n",
       "      <td>b</td>\n",
       "      <td>711</td>\n",
       "      <td>734</td>\n",
       "    </tr>\n",
       "    <tr>\n",
       "      <th>...</th>\n",
       "      <td>...</td>\n",
       "      <td>...</td>\n",
       "      <td>...</td>\n",
       "      <td>...</td>\n",
       "    </tr>\n",
       "    <tr>\n",
       "      <th>9999852</th>\n",
       "      <td>533</td>\n",
       "      <td>b</td>\n",
       "      <td>663</td>\n",
       "      <td>994</td>\n",
       "    </tr>\n",
       "    <tr>\n",
       "      <th>9999889</th>\n",
       "      <td>743</td>\n",
       "      <td>b</td>\n",
       "      <td>799</td>\n",
       "      <td>870</td>\n",
       "    </tr>\n",
       "    <tr>\n",
       "      <th>9999905</th>\n",
       "      <td>651</td>\n",
       "      <td>b</td>\n",
       "      <td>646</td>\n",
       "      <td>681</td>\n",
       "    </tr>\n",
       "    <tr>\n",
       "      <th>9999933</th>\n",
       "      <td>597</td>\n",
       "      <td>b</td>\n",
       "      <td>880</td>\n",
       "      <td>902</td>\n",
       "    </tr>\n",
       "    <tr>\n",
       "      <th>9999961</th>\n",
       "      <td>721</td>\n",
       "      <td>b</td>\n",
       "      <td>845</td>\n",
       "      <td>984</td>\n",
       "    </tr>\n",
       "  </tbody>\n",
       "</table>\n",
       "<p>414184 rows × 4 columns</p>\n",
       "</div>"
      ],
      "text/plain": [
       "           A  B    C    D\n",
       "0        684  b  778  646\n",
       "4        835  b  804  794\n",
       "26       677  b  772  877\n",
       "28       845  b  887  957\n",
       "33       976  b  711  734\n",
       "...      ... ..  ...  ...\n",
       "9999852  533  b  663  994\n",
       "9999889  743  b  799  870\n",
       "9999905  651  b  646  681\n",
       "9999933  597  b  880  902\n",
       "9999961  721  b  845  984\n",
       "\n",
       "[414184 rows x 4 columns]"
      ]
     },
     "execution_count": 34,
     "metadata": {},
     "output_type": "execute_result"
    }
   ],
   "source": [
    "# Using boolean indexing\n",
    "boolean_indexing_example = df[\n",
    "    (df['A'] > 500)\n",
    "    & (df['B'] == 'b')\n",
    "    & (df['C'] > 500)\n",
    "    & (df['D'] > 500)\n",
    "    ]\n",
    "boolean_indexing_example"
   ]
  },
  {
   "cell_type": "code",
   "execution_count": 35,
   "id": "84cb9ed8",
   "metadata": {
    "ExecuteTime": {
     "end_time": "2023-06-02T07:05:39.745777200Z",
     "start_time": "2023-06-02T07:05:39.422676300Z"
    },
    "slideshow": {
     "slide_type": "subslide"
    }
   },
   "outputs": [
    {
     "data": {
      "text/html": [
       "<div>\n",
       "<style scoped>\n",
       "    .dataframe tbody tr th:only-of-type {\n",
       "        vertical-align: middle;\n",
       "    }\n",
       "\n",
       "    .dataframe tbody tr th {\n",
       "        vertical-align: top;\n",
       "    }\n",
       "\n",
       "    .dataframe thead th {\n",
       "        text-align: right;\n",
       "    }\n",
       "</style>\n",
       "<table border=\"1\" class=\"dataframe\">\n",
       "  <thead>\n",
       "    <tr style=\"text-align: right;\">\n",
       "      <th></th>\n",
       "      <th>A</th>\n",
       "      <th>B</th>\n",
       "      <th>C</th>\n",
       "      <th>D</th>\n",
       "    </tr>\n",
       "  </thead>\n",
       "  <tbody>\n",
       "    <tr>\n",
       "      <th>0</th>\n",
       "      <td>684</td>\n",
       "      <td>b</td>\n",
       "      <td>778</td>\n",
       "      <td>646</td>\n",
       "    </tr>\n",
       "    <tr>\n",
       "      <th>4</th>\n",
       "      <td>835</td>\n",
       "      <td>b</td>\n",
       "      <td>804</td>\n",
       "      <td>794</td>\n",
       "    </tr>\n",
       "    <tr>\n",
       "      <th>26</th>\n",
       "      <td>677</td>\n",
       "      <td>b</td>\n",
       "      <td>772</td>\n",
       "      <td>877</td>\n",
       "    </tr>\n",
       "    <tr>\n",
       "      <th>28</th>\n",
       "      <td>845</td>\n",
       "      <td>b</td>\n",
       "      <td>887</td>\n",
       "      <td>957</td>\n",
       "    </tr>\n",
       "    <tr>\n",
       "      <th>33</th>\n",
       "      <td>976</td>\n",
       "      <td>b</td>\n",
       "      <td>711</td>\n",
       "      <td>734</td>\n",
       "    </tr>\n",
       "    <tr>\n",
       "      <th>...</th>\n",
       "      <td>...</td>\n",
       "      <td>...</td>\n",
       "      <td>...</td>\n",
       "      <td>...</td>\n",
       "    </tr>\n",
       "    <tr>\n",
       "      <th>9999852</th>\n",
       "      <td>533</td>\n",
       "      <td>b</td>\n",
       "      <td>663</td>\n",
       "      <td>994</td>\n",
       "    </tr>\n",
       "    <tr>\n",
       "      <th>9999889</th>\n",
       "      <td>743</td>\n",
       "      <td>b</td>\n",
       "      <td>799</td>\n",
       "      <td>870</td>\n",
       "    </tr>\n",
       "    <tr>\n",
       "      <th>9999905</th>\n",
       "      <td>651</td>\n",
       "      <td>b</td>\n",
       "      <td>646</td>\n",
       "      <td>681</td>\n",
       "    </tr>\n",
       "    <tr>\n",
       "      <th>9999933</th>\n",
       "      <td>597</td>\n",
       "      <td>b</td>\n",
       "      <td>880</td>\n",
       "      <td>902</td>\n",
       "    </tr>\n",
       "    <tr>\n",
       "      <th>9999961</th>\n",
       "      <td>721</td>\n",
       "      <td>b</td>\n",
       "      <td>845</td>\n",
       "      <td>984</td>\n",
       "    </tr>\n",
       "  </tbody>\n",
       "</table>\n",
       "<p>414184 rows × 4 columns</p>\n",
       "</div>"
      ],
      "text/plain": [
       "           A  B    C    D\n",
       "0        684  b  778  646\n",
       "4        835  b  804  794\n",
       "26       677  b  772  877\n",
       "28       845  b  887  957\n",
       "33       976  b  711  734\n",
       "...      ... ..  ...  ...\n",
       "9999852  533  b  663  994\n",
       "9999889  743  b  799  870\n",
       "9999905  651  b  646  681\n",
       "9999933  597  b  880  902\n",
       "9999961  721  b  845  984\n",
       "\n",
       "[414184 rows x 4 columns]"
      ]
     },
     "execution_count": 35,
     "metadata": {},
     "output_type": "execute_result"
    }
   ],
   "source": [
    "# Using query\n",
    "query_example = df.query(\n",
    "    \"A > 500 and B == 'b' and C > 500 and D > 500\",\n",
    ")\n",
    "query_example"
   ]
  },
  {
   "cell_type": "code",
   "execution_count": 39,
   "id": "661f00ee",
   "metadata": {
    "ExecuteTime": {
     "end_time": "2023-06-02T07:06:51.109772900Z",
     "start_time": "2023-06-02T07:06:50.909399800Z"
    },
    "slideshow": {
     "slide_type": "subslide"
    }
   },
   "outputs": [
    {
     "data": {
      "text/plain": [
       "True"
      ]
     },
     "execution_count": 39,
     "metadata": {},
     "output_type": "execute_result"
    }
   ],
   "source": [
    "assert np.array_equal(boolean_indexing_example, query_example)"
   ]
  },
  {
   "cell_type": "code",
   "execution_count": 28,
   "id": "c571a87d",
   "metadata": {
    "ExecuteTime": {
     "end_time": "2023-06-02T07:03:00.762830200Z",
     "start_time": "2023-06-02T07:02:56.842637200Z"
    },
    "slideshow": {
     "slide_type": "-"
    }
   },
   "outputs": [
    {
     "name": "stdout",
     "output_type": "stream",
     "text": [
      "482 ms ± 13.8 ms per loop (mean ± std. dev. of 7 runs, 1 loop each)\n"
     ]
    }
   ],
   "source": [
    "%%timeit\n",
    "df[\n",
    "    (df['A'] > 500)\n",
    "    & (df['B'] == 'b')\n",
    "    & (df['C'] > 500)\n",
    "    & (df['D'] > 500)\n",
    "    ]"
   ]
  },
  {
   "cell_type": "code",
   "execution_count": 29,
   "id": "213e82c4",
   "metadata": {
    "ExecuteTime": {
     "end_time": "2023-06-02T07:03:05.646484800Z",
     "start_time": "2023-06-02T07:03:03.056607500Z"
    },
    "slideshow": {
     "slide_type": "-"
    }
   },
   "outputs": [
    {
     "name": "stdout",
     "output_type": "stream",
     "text": [
      "321 ms ± 34 ms per loop (mean ± std. dev. of 7 runs, 1 loop each)\n"
     ]
    }
   ],
   "source": [
    "%%timeit\n",
    "df.query(\n",
    "    \"A > 500 and B == 'b' and C > 500 and D > 500\",\n",
    ")"
   ]
  },
  {
   "cell_type": "markdown",
   "id": "cb952f26",
   "metadata": {
    "slideshow": {
     "slide_type": "slide"
    }
   },
   "source": [
    "# 3. Reshaping Data\n",
    "Reshaping data in Pandas involves transforming the structure of a DataFrame to make it more suitable for analysis or presentation.\n",
    "There are several functions in Pandas that can be used for reshaping data.\n",
    "Here are 2 common functions:\n",
    "\n",
    "## Wide to Long\n",
    "melt(): The melt() function is used to unpivot or melt a DataFrame, transforming it from a wide format to a long format.\n",
    "It gathers multiple columns into key-value pairs, creating a new DataFrame.\n",
    "\n",
    "\n",
    "## Long to Wide\n",
    "pivot(): The pivot() function allows you to reshape a DataFrame based on unique values in one or more columns. It creates a new DataFrame with columns derived from the unique values and reshapes the data accordingly. Used most commonly to reshape data from long to wide format"
   ]
  },
  {
   "cell_type": "markdown",
   "id": "de6c79d9",
   "metadata": {
    "slideshow": {
     "slide_type": "subslide"
    }
   },
   "source": [
    "## Wide to Long\n",
    "<img height=\"400\" src=\"C:\\Github\\pandas_demo\\images\\melt.jpg\" width=\"400\"/>"
   ]
  },
  {
   "cell_type": "code",
   "execution_count": 49,
   "id": "88b75c19",
   "metadata": {
    "slideshow": {
     "slide_type": "subslide"
    },
    "ExecuteTime": {
     "end_time": "2023-06-02T09:16:00.890968800Z",
     "start_time": "2023-06-02T09:16:00.859626600Z"
    }
   },
   "outputs": [
    {
     "data": {
      "text/plain": "    A   B   C   D   E   F\n0  21  B1  51   0  E2  F5\n1  72  B2  67  20  E3  F4\n2   7  B3  42   9  E1  F3\n3  52  B4  74   7  E1  F1\n4  32  B5   4  70  E2  F3",
      "text/html": "<div>\n<style scoped>\n    .dataframe tbody tr th:only-of-type {\n        vertical-align: middle;\n    }\n\n    .dataframe tbody tr th {\n        vertical-align: top;\n    }\n\n    .dataframe thead th {\n        text-align: right;\n    }\n</style>\n<table border=\"1\" class=\"dataframe\">\n  <thead>\n    <tr style=\"text-align: right;\">\n      <th></th>\n      <th>A</th>\n      <th>B</th>\n      <th>C</th>\n      <th>D</th>\n      <th>E</th>\n      <th>F</th>\n    </tr>\n  </thead>\n  <tbody>\n    <tr>\n      <th>0</th>\n      <td>21</td>\n      <td>B1</td>\n      <td>51</td>\n      <td>0</td>\n      <td>E2</td>\n      <td>F5</td>\n    </tr>\n    <tr>\n      <th>1</th>\n      <td>72</td>\n      <td>B2</td>\n      <td>67</td>\n      <td>20</td>\n      <td>E3</td>\n      <td>F4</td>\n    </tr>\n    <tr>\n      <th>2</th>\n      <td>7</td>\n      <td>B3</td>\n      <td>42</td>\n      <td>9</td>\n      <td>E1</td>\n      <td>F3</td>\n    </tr>\n    <tr>\n      <th>3</th>\n      <td>52</td>\n      <td>B4</td>\n      <td>74</td>\n      <td>7</td>\n      <td>E1</td>\n      <td>F1</td>\n    </tr>\n    <tr>\n      <th>4</th>\n      <td>32</td>\n      <td>B5</td>\n      <td>4</td>\n      <td>70</td>\n      <td>E2</td>\n      <td>F3</td>\n    </tr>\n  </tbody>\n</table>\n</div>"
     },
     "execution_count": 49,
     "metadata": {},
     "output_type": "execute_result"
    }
   ],
   "source": [
    "# Sample data with 6 columns\n",
    "df_len = 5\n",
    "wide_df = pd.DataFrame({\n",
    "    'A': np.random.randint(0, 100, df_len),\n",
    "    'B': [\"B1\", \"B2\", \"B3\", \"B4\", \"B5\"],\n",
    "    'C': np.random.randint(0, 100, df_len),\n",
    "    'D': np.random.randint(0, 100, df_len),\n",
    "    'E': np.random.choice([\"E1\", \"E2\", \"E3\", \"E4\", \"E5\"], df_len),\n",
    "    'F': np.random.choice([\"F1\", \"F2\", \"F3\", \"F4\", \"F5\"], df_len),\n",
    "})\n",
    "wide_df"
   ]
  },
  {
   "cell_type": "code",
   "execution_count": 50,
   "id": "4f88588f",
   "metadata": {
    "slideshow": {
     "slide_type": "subslide"
    },
    "ExecuteTime": {
     "end_time": "2023-06-02T09:16:02.419108700Z",
     "start_time": "2023-06-02T09:16:02.393432500Z"
    }
   },
   "outputs": [
    {
     "data": {
      "text/plain": "     B variable value\n0   B1        A    21\n1   B2        A    72\n2   B3        A     7\n3   B4        A    52\n4   B5        A    32\n5   B1        C    51\n6   B2        C    67\n7   B3        C    42\n8   B4        C    74\n9   B5        C     4\n10  B1        D     0\n11  B2        D    20\n12  B3        D     9\n13  B4        D     7\n14  B5        D    70\n15  B1        E    E2\n16  B2        E    E3\n17  B3        E    E1\n18  B4        E    E1\n19  B5        E    E2\n20  B1        F    F5\n21  B2        F    F4\n22  B3        F    F3\n23  B4        F    F1\n24  B5        F    F3",
      "text/html": "<div>\n<style scoped>\n    .dataframe tbody tr th:only-of-type {\n        vertical-align: middle;\n    }\n\n    .dataframe tbody tr th {\n        vertical-align: top;\n    }\n\n    .dataframe thead th {\n        text-align: right;\n    }\n</style>\n<table border=\"1\" class=\"dataframe\">\n  <thead>\n    <tr style=\"text-align: right;\">\n      <th></th>\n      <th>B</th>\n      <th>variable</th>\n      <th>value</th>\n    </tr>\n  </thead>\n  <tbody>\n    <tr>\n      <th>0</th>\n      <td>B1</td>\n      <td>A</td>\n      <td>21</td>\n    </tr>\n    <tr>\n      <th>1</th>\n      <td>B2</td>\n      <td>A</td>\n      <td>72</td>\n    </tr>\n    <tr>\n      <th>2</th>\n      <td>B3</td>\n      <td>A</td>\n      <td>7</td>\n    </tr>\n    <tr>\n      <th>3</th>\n      <td>B4</td>\n      <td>A</td>\n      <td>52</td>\n    </tr>\n    <tr>\n      <th>4</th>\n      <td>B5</td>\n      <td>A</td>\n      <td>32</td>\n    </tr>\n    <tr>\n      <th>5</th>\n      <td>B1</td>\n      <td>C</td>\n      <td>51</td>\n    </tr>\n    <tr>\n      <th>6</th>\n      <td>B2</td>\n      <td>C</td>\n      <td>67</td>\n    </tr>\n    <tr>\n      <th>7</th>\n      <td>B3</td>\n      <td>C</td>\n      <td>42</td>\n    </tr>\n    <tr>\n      <th>8</th>\n      <td>B4</td>\n      <td>C</td>\n      <td>74</td>\n    </tr>\n    <tr>\n      <th>9</th>\n      <td>B5</td>\n      <td>C</td>\n      <td>4</td>\n    </tr>\n    <tr>\n      <th>10</th>\n      <td>B1</td>\n      <td>D</td>\n      <td>0</td>\n    </tr>\n    <tr>\n      <th>11</th>\n      <td>B2</td>\n      <td>D</td>\n      <td>20</td>\n    </tr>\n    <tr>\n      <th>12</th>\n      <td>B3</td>\n      <td>D</td>\n      <td>9</td>\n    </tr>\n    <tr>\n      <th>13</th>\n      <td>B4</td>\n      <td>D</td>\n      <td>7</td>\n    </tr>\n    <tr>\n      <th>14</th>\n      <td>B5</td>\n      <td>D</td>\n      <td>70</td>\n    </tr>\n    <tr>\n      <th>15</th>\n      <td>B1</td>\n      <td>E</td>\n      <td>E2</td>\n    </tr>\n    <tr>\n      <th>16</th>\n      <td>B2</td>\n      <td>E</td>\n      <td>E3</td>\n    </tr>\n    <tr>\n      <th>17</th>\n      <td>B3</td>\n      <td>E</td>\n      <td>E1</td>\n    </tr>\n    <tr>\n      <th>18</th>\n      <td>B4</td>\n      <td>E</td>\n      <td>E1</td>\n    </tr>\n    <tr>\n      <th>19</th>\n      <td>B5</td>\n      <td>E</td>\n      <td>E2</td>\n    </tr>\n    <tr>\n      <th>20</th>\n      <td>B1</td>\n      <td>F</td>\n      <td>F5</td>\n    </tr>\n    <tr>\n      <th>21</th>\n      <td>B2</td>\n      <td>F</td>\n      <td>F4</td>\n    </tr>\n    <tr>\n      <th>22</th>\n      <td>B3</td>\n      <td>F</td>\n      <td>F3</td>\n    </tr>\n    <tr>\n      <th>23</th>\n      <td>B4</td>\n      <td>F</td>\n      <td>F1</td>\n    </tr>\n    <tr>\n      <th>24</th>\n      <td>B5</td>\n      <td>F</td>\n      <td>F3</td>\n    </tr>\n  </tbody>\n</table>\n</div>"
     },
     "execution_count": 50,
     "metadata": {},
     "output_type": "execute_result"
    }
   ],
   "source": [
    "# convert from wide to long using melt\n",
    "long_df = wide_df.melt(\n",
    "    id_vars=['B'],\n",
    "    value_vars=['A', 'C', 'D', 'E', 'F']\n",
    ")\n",
    "long_df"
   ]
  },
  {
   "cell_type": "markdown",
   "id": "311f7981",
   "metadata": {
    "slideshow": {
     "slide_type": "subslide"
    }
   },
   "source": [
    "## Long to Wide\n",
    "<img height=\"400\" src=\"C:\\Github\\pandas_demo\\images\\pivot.jpg\" width=\"400\"/>"
   ]
  },
  {
   "cell_type": "code",
   "execution_count": 51,
   "id": "3d46226e",
   "metadata": {
    "slideshow": {
     "slide_type": "subslide"
    },
    "ExecuteTime": {
     "end_time": "2023-06-02T09:16:07.084112400Z",
     "start_time": "2023-06-02T09:16:07.073048400Z"
    }
   },
   "outputs": [
    {
     "data": {
      "text/plain": "variable   A   C   D   E   F\nB                           \nB1        21  51   0  E2  F5\nB2        72  67  20  E3  F4\nB3         7  42   9  E1  F3\nB4        52  74   7  E1  F1\nB5        32   4  70  E2  F3",
      "text/html": "<div>\n<style scoped>\n    .dataframe tbody tr th:only-of-type {\n        vertical-align: middle;\n    }\n\n    .dataframe tbody tr th {\n        vertical-align: top;\n    }\n\n    .dataframe thead th {\n        text-align: right;\n    }\n</style>\n<table border=\"1\" class=\"dataframe\">\n  <thead>\n    <tr style=\"text-align: right;\">\n      <th>variable</th>\n      <th>A</th>\n      <th>C</th>\n      <th>D</th>\n      <th>E</th>\n      <th>F</th>\n    </tr>\n    <tr>\n      <th>B</th>\n      <th></th>\n      <th></th>\n      <th></th>\n      <th></th>\n      <th></th>\n    </tr>\n  </thead>\n  <tbody>\n    <tr>\n      <th>B1</th>\n      <td>21</td>\n      <td>51</td>\n      <td>0</td>\n      <td>E2</td>\n      <td>F5</td>\n    </tr>\n    <tr>\n      <th>B2</th>\n      <td>72</td>\n      <td>67</td>\n      <td>20</td>\n      <td>E3</td>\n      <td>F4</td>\n    </tr>\n    <tr>\n      <th>B3</th>\n      <td>7</td>\n      <td>42</td>\n      <td>9</td>\n      <td>E1</td>\n      <td>F3</td>\n    </tr>\n    <tr>\n      <th>B4</th>\n      <td>52</td>\n      <td>74</td>\n      <td>7</td>\n      <td>E1</td>\n      <td>F1</td>\n    </tr>\n    <tr>\n      <th>B5</th>\n      <td>32</td>\n      <td>4</td>\n      <td>70</td>\n      <td>E2</td>\n      <td>F3</td>\n    </tr>\n  </tbody>\n</table>\n</div>"
     },
     "execution_count": 51,
     "metadata": {},
     "output_type": "execute_result"
    }
   ],
   "source": [
    "# Given the same data but in long format\n",
    "# convert it back to wide format\n",
    "long_df.pivot(\n",
    "    index='B',\n",
    "    columns='variable',\n",
    "    values='value'\n",
    ")"
   ]
  },
  {
   "cell_type": "markdown",
   "id": "2ba092bd",
   "metadata": {
    "slideshow": {
     "slide_type": "subslide"
    }
   },
   "source": [
    "### Considerations\n",
    "The choice between wide format vs long format depends on the specific circumstances and the type of analysis or presentation you want to perform.\n",
    "\n",
    "#### Wide Format:\n",
    "- Small number of variables that are fixed and known upfront\n",
    "- We need to perform operations that require calculations across multiple variables."
   ]
  },
  {
   "cell_type": "markdown",
   "id": "42b16af3",
   "metadata": {
    "slideshow": {
     "slide_type": "subslide"
    }
   },
   "source": [
    "#### Long Format:\n",
    "- Large number of variables or variable categories\n",
    "- There is need to constantly add new variables or categories\n",
    "- Ideal for performing aggregations, transformations, and analysis using groupby, pivot, or melt operations.\n",
    "- Facilitates easier merging and joining of datasets with different variables or categories.\n",
    "- Often preferred for visualization purposes, as it allows for flexible plotting and faceting."
   ]
  }
 ],
 "metadata": {
  "celltoolbar": "Slideshow",
  "kernelspec": {
   "display_name": "Python 3 (ipykernel)",
   "language": "python",
   "name": "python3"
  },
  "language_info": {
   "codemirror_mode": {
    "name": "ipython",
    "version": 3
   },
   "file_extension": ".py",
   "mimetype": "text/x-python",
   "name": "python",
   "nbconvert_exporter": "python",
   "pygments_lexer": "ipython3",
   "version": "3.10.11"
  }
 },
 "nbformat": 4,
 "nbformat_minor": 5
}
